{
  "nbformat": 4,
  "nbformat_minor": 0,
  "metadata": {
    "colab": {
      "name": "PortoSeguro_Code.ipynb",
      "provenance": [],
      "collapsed_sections": [],
      "toc_visible": true
    },
    "kernelspec": {
      "name": "python3",
      "display_name": "Python 3"
    }
  },
  "cells": [
    {
      "cell_type": "markdown",
      "metadata": {
        "id": "P2MbAQjr16Ag",
        "colab_type": "text"
      },
      "source": [
        "## 1. Import Library"
      ]
    },
    {
      "cell_type": "code",
      "metadata": {
        "id": "SSWjejzz13Hm",
        "colab_type": "code",
        "colab": {}
      },
      "source": [
        "import pandas as pd\n",
        "import pandas.util.testing as tm\n",
        "import numpy as np\n",
        "import matplotlib.pyplot as plt\n",
        "import matplotlib\n",
        "import seaborn as sns\n",
        "import os\n",
        "from sklearn.preprocessing import OneHotEncoder, LabelEncoder, MinMaxScaler"
      ],
      "execution_count": 0,
      "outputs": []
    },
    {
      "cell_type": "markdown",
      "metadata": {
        "id": "jLYX_J-qSlOE",
        "colab_type": "text"
      },
      "source": [
        "## 2.  Load Dataset"
      ]
    },
    {
      "cell_type": "code",
      "metadata": {
        "id": "fmK4BGDPo8M3",
        "colab_type": "code",
        "colab": {}
      },
      "source": [
        "\n",
        "data = pd.read_csv('/content/porto-seguro-safe-driver-prediction test.csv')"
      ],
      "execution_count": 0,
      "outputs": []
    },
    {
      "cell_type": "code",
      "metadata": {
        "id": "tO6CzvuwzMA8",
        "colab_type": "code",
        "outputId": "d0692b38-5b60-4777-df91-eef5e490f5a9",
        "colab": {
          "base_uri": "https://localhost:8080/",
          "height": 217
        }
      },
      "source": [
        "data.head(5)"
      ],
      "execution_count": 4,
      "outputs": [
        {
          "output_type": "execute_result",
          "data": {
            "text/html": [
              "<div>\n",
              "<style scoped>\n",
              "    .dataframe tbody tr th:only-of-type {\n",
              "        vertical-align: middle;\n",
              "    }\n",
              "\n",
              "    .dataframe tbody tr th {\n",
              "        vertical-align: top;\n",
              "    }\n",
              "\n",
              "    .dataframe thead th {\n",
              "        text-align: right;\n",
              "    }\n",
              "</style>\n",
              "<table border=\"1\" class=\"dataframe\">\n",
              "  <thead>\n",
              "    <tr style=\"text-align: right;\">\n",
              "      <th></th>\n",
              "      <th>id</th>\n",
              "      <th>target</th>\n",
              "      <th>ps_ind_01</th>\n",
              "      <th>ps_ind_02_cat</th>\n",
              "      <th>ps_ind_03</th>\n",
              "      <th>ps_ind_04_cat</th>\n",
              "      <th>ps_ind_05_cat</th>\n",
              "      <th>ps_ind_06_bin</th>\n",
              "      <th>ps_ind_07_bin</th>\n",
              "      <th>ps_ind_08_bin</th>\n",
              "      <th>ps_ind_09_bin</th>\n",
              "      <th>ps_ind_10_bin</th>\n",
              "      <th>ps_ind_11_bin</th>\n",
              "      <th>ps_ind_12_bin</th>\n",
              "      <th>ps_ind_13_bin</th>\n",
              "      <th>ps_ind_14</th>\n",
              "      <th>ps_ind_15</th>\n",
              "      <th>ps_ind_16_bin</th>\n",
              "      <th>ps_ind_17_bin</th>\n",
              "      <th>ps_ind_18_bin</th>\n",
              "      <th>ps_reg_01</th>\n",
              "      <th>ps_reg_02</th>\n",
              "      <th>ps_reg_03</th>\n",
              "      <th>ps_car_01_cat</th>\n",
              "      <th>ps_car_02_cat</th>\n",
              "      <th>ps_car_03_cat</th>\n",
              "      <th>ps_car_04_cat</th>\n",
              "      <th>ps_car_05_cat</th>\n",
              "      <th>ps_car_06_cat</th>\n",
              "      <th>ps_car_07_cat</th>\n",
              "      <th>ps_car_08_cat</th>\n",
              "      <th>ps_car_09_cat</th>\n",
              "      <th>ps_car_10_cat</th>\n",
              "      <th>ps_car_11_cat</th>\n",
              "      <th>ps_car_11</th>\n",
              "      <th>ps_car_12</th>\n",
              "      <th>ps_car_13</th>\n",
              "      <th>ps_car_14</th>\n",
              "      <th>ps_car_15</th>\n",
              "      <th>ps_calc_01</th>\n",
              "      <th>ps_calc_02</th>\n",
              "      <th>ps_calc_03</th>\n",
              "      <th>ps_calc_04</th>\n",
              "      <th>ps_calc_05</th>\n",
              "      <th>ps_calc_06</th>\n",
              "      <th>ps_calc_07</th>\n",
              "      <th>ps_calc_08</th>\n",
              "      <th>ps_calc_09</th>\n",
              "      <th>ps_calc_10</th>\n",
              "      <th>ps_calc_11</th>\n",
              "      <th>ps_calc_12</th>\n",
              "      <th>ps_calc_13</th>\n",
              "      <th>ps_calc_14</th>\n",
              "      <th>ps_calc_15_bin</th>\n",
              "      <th>ps_calc_16_bin</th>\n",
              "      <th>ps_calc_17_bin</th>\n",
              "      <th>ps_calc_18_bin</th>\n",
              "      <th>ps_calc_19_bin</th>\n",
              "      <th>ps_calc_20_bin</th>\n",
              "    </tr>\n",
              "  </thead>\n",
              "  <tbody>\n",
              "    <tr>\n",
              "      <th>0</th>\n",
              "      <td>7</td>\n",
              "      <td>0</td>\n",
              "      <td>2</td>\n",
              "      <td>2</td>\n",
              "      <td>5</td>\n",
              "      <td>1</td>\n",
              "      <td>0</td>\n",
              "      <td>0</td>\n",
              "      <td>1</td>\n",
              "      <td>0</td>\n",
              "      <td>0</td>\n",
              "      <td>0</td>\n",
              "      <td>0</td>\n",
              "      <td>0</td>\n",
              "      <td>0</td>\n",
              "      <td>0</td>\n",
              "      <td>11</td>\n",
              "      <td>0</td>\n",
              "      <td>1</td>\n",
              "      <td>0</td>\n",
              "      <td>0.7</td>\n",
              "      <td>0.2</td>\n",
              "      <td>0.718070</td>\n",
              "      <td>10</td>\n",
              "      <td>1</td>\n",
              "      <td>-1</td>\n",
              "      <td>0</td>\n",
              "      <td>1</td>\n",
              "      <td>4</td>\n",
              "      <td>1</td>\n",
              "      <td>0</td>\n",
              "      <td>0</td>\n",
              "      <td>1</td>\n",
              "      <td>12</td>\n",
              "      <td>2</td>\n",
              "      <td>0.400000</td>\n",
              "      <td>0.883679</td>\n",
              "      <td>0.370810</td>\n",
              "      <td>3.605551</td>\n",
              "      <td>0.6</td>\n",
              "      <td>0.5</td>\n",
              "      <td>0.2</td>\n",
              "      <td>3.0</td>\n",
              "      <td>1.0</td>\n",
              "      <td>10.0</td>\n",
              "      <td>1.0</td>\n",
              "      <td>10.0</td>\n",
              "      <td>1.0</td>\n",
              "      <td>5.0</td>\n",
              "      <td>9.0</td>\n",
              "      <td>1.0</td>\n",
              "      <td>5.0</td>\n",
              "      <td>8.0</td>\n",
              "      <td>0.0</td>\n",
              "      <td>1.0</td>\n",
              "      <td>1.0</td>\n",
              "      <td>0.0</td>\n",
              "      <td>0.0</td>\n",
              "      <td>1.0</td>\n",
              "    </tr>\n",
              "    <tr>\n",
              "      <th>1</th>\n",
              "      <td>9</td>\n",
              "      <td>0</td>\n",
              "      <td>1</td>\n",
              "      <td>1</td>\n",
              "      <td>7</td>\n",
              "      <td>0</td>\n",
              "      <td>0</td>\n",
              "      <td>0</td>\n",
              "      <td>0</td>\n",
              "      <td>1</td>\n",
              "      <td>0</td>\n",
              "      <td>0</td>\n",
              "      <td>0</td>\n",
              "      <td>0</td>\n",
              "      <td>0</td>\n",
              "      <td>0</td>\n",
              "      <td>3</td>\n",
              "      <td>0</td>\n",
              "      <td>0</td>\n",
              "      <td>1</td>\n",
              "      <td>0.8</td>\n",
              "      <td>0.4</td>\n",
              "      <td>0.766078</td>\n",
              "      <td>11</td>\n",
              "      <td>1</td>\n",
              "      <td>-1</td>\n",
              "      <td>0</td>\n",
              "      <td>-1</td>\n",
              "      <td>11</td>\n",
              "      <td>1</td>\n",
              "      <td>1</td>\n",
              "      <td>2</td>\n",
              "      <td>1</td>\n",
              "      <td>19</td>\n",
              "      <td>3</td>\n",
              "      <td>0.316228</td>\n",
              "      <td>0.618817</td>\n",
              "      <td>0.388716</td>\n",
              "      <td>2.449490</td>\n",
              "      <td>0.3</td>\n",
              "      <td>0.1</td>\n",
              "      <td>0.3</td>\n",
              "      <td>2.0</td>\n",
              "      <td>1.0</td>\n",
              "      <td>9.0</td>\n",
              "      <td>5.0</td>\n",
              "      <td>8.0</td>\n",
              "      <td>1.0</td>\n",
              "      <td>7.0</td>\n",
              "      <td>3.0</td>\n",
              "      <td>1.0</td>\n",
              "      <td>1.0</td>\n",
              "      <td>9.0</td>\n",
              "      <td>0.0</td>\n",
              "      <td>1.0</td>\n",
              "      <td>1.0</td>\n",
              "      <td>0.0</td>\n",
              "      <td>1.0</td>\n",
              "      <td>0.0</td>\n",
              "    </tr>\n",
              "    <tr>\n",
              "      <th>2</th>\n",
              "      <td>13</td>\n",
              "      <td>0</td>\n",
              "      <td>5</td>\n",
              "      <td>4</td>\n",
              "      <td>9</td>\n",
              "      <td>1</td>\n",
              "      <td>0</td>\n",
              "      <td>0</td>\n",
              "      <td>0</td>\n",
              "      <td>1</td>\n",
              "      <td>0</td>\n",
              "      <td>0</td>\n",
              "      <td>0</td>\n",
              "      <td>0</td>\n",
              "      <td>0</td>\n",
              "      <td>0</td>\n",
              "      <td>12</td>\n",
              "      <td>1</td>\n",
              "      <td>0</td>\n",
              "      <td>0</td>\n",
              "      <td>0.0</td>\n",
              "      <td>0.0</td>\n",
              "      <td>-1.000000</td>\n",
              "      <td>7</td>\n",
              "      <td>1</td>\n",
              "      <td>-1</td>\n",
              "      <td>0</td>\n",
              "      <td>-1</td>\n",
              "      <td>14</td>\n",
              "      <td>1</td>\n",
              "      <td>1</td>\n",
              "      <td>2</td>\n",
              "      <td>1</td>\n",
              "      <td>60</td>\n",
              "      <td>1</td>\n",
              "      <td>0.316228</td>\n",
              "      <td>0.641586</td>\n",
              "      <td>0.347275</td>\n",
              "      <td>3.316625</td>\n",
              "      <td>0.5</td>\n",
              "      <td>0.7</td>\n",
              "      <td>0.1</td>\n",
              "      <td>2.0</td>\n",
              "      <td>2.0</td>\n",
              "      <td>9.0</td>\n",
              "      <td>1.0</td>\n",
              "      <td>8.0</td>\n",
              "      <td>2.0</td>\n",
              "      <td>7.0</td>\n",
              "      <td>4.0</td>\n",
              "      <td>2.0</td>\n",
              "      <td>7.0</td>\n",
              "      <td>7.0</td>\n",
              "      <td>0.0</td>\n",
              "      <td>1.0</td>\n",
              "      <td>1.0</td>\n",
              "      <td>0.0</td>\n",
              "      <td>1.0</td>\n",
              "      <td>0.0</td>\n",
              "    </tr>\n",
              "    <tr>\n",
              "      <th>3</th>\n",
              "      <td>16</td>\n",
              "      <td>0</td>\n",
              "      <td>0</td>\n",
              "      <td>1</td>\n",
              "      <td>2</td>\n",
              "      <td>0</td>\n",
              "      <td>0</td>\n",
              "      <td>1</td>\n",
              "      <td>0</td>\n",
              "      <td>0</td>\n",
              "      <td>0</td>\n",
              "      <td>0</td>\n",
              "      <td>0</td>\n",
              "      <td>0</td>\n",
              "      <td>0</td>\n",
              "      <td>0</td>\n",
              "      <td>8</td>\n",
              "      <td>1</td>\n",
              "      <td>0</td>\n",
              "      <td>0</td>\n",
              "      <td>0.9</td>\n",
              "      <td>0.2</td>\n",
              "      <td>0.580948</td>\n",
              "      <td>7</td>\n",
              "      <td>1</td>\n",
              "      <td>0</td>\n",
              "      <td>0</td>\n",
              "      <td>1</td>\n",
              "      <td>11</td>\n",
              "      <td>1</td>\n",
              "      <td>1</td>\n",
              "      <td>3</td>\n",
              "      <td>1</td>\n",
              "      <td>104</td>\n",
              "      <td>1</td>\n",
              "      <td>0.374166</td>\n",
              "      <td>0.542949</td>\n",
              "      <td>0.294958</td>\n",
              "      <td>2.000000</td>\n",
              "      <td>0.6</td>\n",
              "      <td>0.9</td>\n",
              "      <td>0.1</td>\n",
              "      <td>2.0</td>\n",
              "      <td>4.0</td>\n",
              "      <td>7.0</td>\n",
              "      <td>1.0</td>\n",
              "      <td>8.0</td>\n",
              "      <td>4.0</td>\n",
              "      <td>2.0</td>\n",
              "      <td>2.0</td>\n",
              "      <td>2.0</td>\n",
              "      <td>4.0</td>\n",
              "      <td>9.0</td>\n",
              "      <td>0.0</td>\n",
              "      <td>0.0</td>\n",
              "      <td>0.0</td>\n",
              "      <td>0.0</td>\n",
              "      <td>0.0</td>\n",
              "      <td>0.0</td>\n",
              "    </tr>\n",
              "    <tr>\n",
              "      <th>4</th>\n",
              "      <td>17</td>\n",
              "      <td>0</td>\n",
              "      <td>0</td>\n",
              "      <td>2</td>\n",
              "      <td>0</td>\n",
              "      <td>1</td>\n",
              "      <td>0</td>\n",
              "      <td>1</td>\n",
              "      <td>0</td>\n",
              "      <td>0</td>\n",
              "      <td>0</td>\n",
              "      <td>0</td>\n",
              "      <td>0</td>\n",
              "      <td>0</td>\n",
              "      <td>0</td>\n",
              "      <td>0</td>\n",
              "      <td>9</td>\n",
              "      <td>1</td>\n",
              "      <td>0</td>\n",
              "      <td>0</td>\n",
              "      <td>0.7</td>\n",
              "      <td>0.6</td>\n",
              "      <td>0.840759</td>\n",
              "      <td>11</td>\n",
              "      <td>1</td>\n",
              "      <td>-1</td>\n",
              "      <td>0</td>\n",
              "      <td>-1</td>\n",
              "      <td>14</td>\n",
              "      <td>1</td>\n",
              "      <td>1</td>\n",
              "      <td>2</td>\n",
              "      <td>1</td>\n",
              "      <td>82</td>\n",
              "      <td>3</td>\n",
              "      <td>0.316070</td>\n",
              "      <td>0.565832</td>\n",
              "      <td>0.365103</td>\n",
              "      <td>2.000000</td>\n",
              "      <td>0.4</td>\n",
              "      <td>0.6</td>\n",
              "      <td>0.0</td>\n",
              "      <td>2.0</td>\n",
              "      <td>2.0</td>\n",
              "      <td>6.0</td>\n",
              "      <td>3.0</td>\n",
              "      <td>10.0</td>\n",
              "      <td>2.0</td>\n",
              "      <td>12.0</td>\n",
              "      <td>3.0</td>\n",
              "      <td>1.0</td>\n",
              "      <td>1.0</td>\n",
              "      <td>3.0</td>\n",
              "      <td>0.0</td>\n",
              "      <td>0.0</td>\n",
              "      <td>0.0</td>\n",
              "      <td>1.0</td>\n",
              "      <td>1.0</td>\n",
              "      <td>0.0</td>\n",
              "    </tr>\n",
              "  </tbody>\n",
              "</table>\n",
              "</div>"
            ],
            "text/plain": [
              "   id  target  ps_ind_01  ...  ps_calc_18_bin  ps_calc_19_bin  ps_calc_20_bin\n",
              "0   7       0          2  ...             0.0             0.0             1.0\n",
              "1   9       0          1  ...             0.0             1.0             0.0\n",
              "2  13       0          5  ...             0.0             1.0             0.0\n",
              "3  16       0          0  ...             0.0             0.0             0.0\n",
              "4  17       0          0  ...             1.0             1.0             0.0\n",
              "\n",
              "[5 rows x 59 columns]"
            ]
          },
          "metadata": {
            "tags": []
          },
          "execution_count": 4
        }
      ]
    },
    {
      "cell_type": "code",
      "metadata": {
        "id": "cZDpwT06Zjqo",
        "colab_type": "code",
        "outputId": "79fb225e-da19-46ed-84b3-ac271a616de7",
        "colab": {
          "base_uri": "https://localhost:8080/",
          "height": 1000
        }
      },
      "source": [
        "data.info()"
      ],
      "execution_count": 0,
      "outputs": [
        {
          "output_type": "stream",
          "text": [
            "<class 'pandas.core.frame.DataFrame'>\n",
            "RangeIndex: 595212 entries, 0 to 595211\n",
            "Data columns (total 59 columns):\n",
            " #   Column          Non-Null Count   Dtype  \n",
            "---  ------          --------------   -----  \n",
            " 0   id              595212 non-null  int64  \n",
            " 1   target          595212 non-null  int64  \n",
            " 2   ps_ind_01       595212 non-null  int64  \n",
            " 3   ps_ind_02_cat   595212 non-null  int64  \n",
            " 4   ps_ind_03       595212 non-null  int64  \n",
            " 5   ps_ind_04_cat   595212 non-null  int64  \n",
            " 6   ps_ind_05_cat   595212 non-null  int64  \n",
            " 7   ps_ind_06_bin   595212 non-null  int64  \n",
            " 8   ps_ind_07_bin   595212 non-null  int64  \n",
            " 9   ps_ind_08_bin   595212 non-null  int64  \n",
            " 10  ps_ind_09_bin   595212 non-null  int64  \n",
            " 11  ps_ind_10_bin   595212 non-null  int64  \n",
            " 12  ps_ind_11_bin   595212 non-null  int64  \n",
            " 13  ps_ind_12_bin   595212 non-null  int64  \n",
            " 14  ps_ind_13_bin   595212 non-null  int64  \n",
            " 15  ps_ind_14       595212 non-null  int64  \n",
            " 16  ps_ind_15       595212 non-null  int64  \n",
            " 17  ps_ind_16_bin   595212 non-null  int64  \n",
            " 18  ps_ind_17_bin   595212 non-null  int64  \n",
            " 19  ps_ind_18_bin   595212 non-null  int64  \n",
            " 20  ps_reg_01       595212 non-null  float64\n",
            " 21  ps_reg_02       595212 non-null  float64\n",
            " 22  ps_reg_03       595212 non-null  float64\n",
            " 23  ps_car_01_cat   595212 non-null  int64  \n",
            " 24  ps_car_02_cat   595212 non-null  int64  \n",
            " 25  ps_car_03_cat   595212 non-null  int64  \n",
            " 26  ps_car_04_cat   595212 non-null  int64  \n",
            " 27  ps_car_05_cat   595212 non-null  int64  \n",
            " 28  ps_car_06_cat   595212 non-null  int64  \n",
            " 29  ps_car_07_cat   595212 non-null  int64  \n",
            " 30  ps_car_08_cat   595212 non-null  int64  \n",
            " 31  ps_car_09_cat   595212 non-null  int64  \n",
            " 32  ps_car_10_cat   595212 non-null  int64  \n",
            " 33  ps_car_11_cat   595212 non-null  int64  \n",
            " 34  ps_car_11       595212 non-null  int64  \n",
            " 35  ps_car_12       595212 non-null  float64\n",
            " 36  ps_car_13       595212 non-null  float64\n",
            " 37  ps_car_14       595212 non-null  float64\n",
            " 38  ps_car_15       595212 non-null  float64\n",
            " 39  ps_calc_01      595212 non-null  float64\n",
            " 40  ps_calc_02      595212 non-null  float64\n",
            " 41  ps_calc_03      595212 non-null  float64\n",
            " 42  ps_calc_04      595212 non-null  int64  \n",
            " 43  ps_calc_05      595212 non-null  int64  \n",
            " 44  ps_calc_06      595212 non-null  int64  \n",
            " 45  ps_calc_07      595212 non-null  int64  \n",
            " 46  ps_calc_08      595212 non-null  int64  \n",
            " 47  ps_calc_09      595212 non-null  int64  \n",
            " 48  ps_calc_10      595212 non-null  int64  \n",
            " 49  ps_calc_11      595212 non-null  int64  \n",
            " 50  ps_calc_12      595212 non-null  int64  \n",
            " 51  ps_calc_13      595212 non-null  int64  \n",
            " 52  ps_calc_14      595212 non-null  int64  \n",
            " 53  ps_calc_15_bin  595212 non-null  int64  \n",
            " 54  ps_calc_16_bin  595212 non-null  int64  \n",
            " 55  ps_calc_17_bin  595212 non-null  int64  \n",
            " 56  ps_calc_18_bin  595212 non-null  int64  \n",
            " 57  ps_calc_19_bin  595212 non-null  int64  \n",
            " 58  ps_calc_20_bin  595212 non-null  int64  \n",
            "dtypes: float64(10), int64(49)\n",
            "memory usage: 267.9 MB\n"
          ],
          "name": "stdout"
        }
      ]
    },
    {
      "cell_type": "markdown",
      "metadata": {
        "id": "jEIQxqqP2P9B",
        "colab_type": "text"
      },
      "source": [
        "## 3. Data Inspection"
      ]
    },
    {
      "cell_type": "code",
      "metadata": {
        "id": "aX2mj4SrpOjm",
        "colab_type": "code",
        "outputId": "42c40bfb-aad6-4701-9491-45d17842b667",
        "colab": {
          "base_uri": "https://localhost:8080/",
          "height": 295
        }
      },
      "source": [
        "# Imbalance Ratio\n",
        "pd.Series(data['target']).value_counts().plot(kind='bar',title='Porto: Count (target)')\n",
        "target_count = data.target.value_counts()\n",
        "print('Imbalance Ratio:', round((target_count[0] / (target_count[0]+target_count[1]))*100, 2), '%')"
      ],
      "execution_count": 5,
      "outputs": [
        {
          "output_type": "stream",
          "text": [
            "Imbalance Ratio: 96.28 %\n"
          ],
          "name": "stdout"
        },
        {
          "output_type": "display_data",
          "data": {
            "image/png": "[encoded data removed]",
            "text/plain": [
              "<Figure size 432x288 with 1 Axes>"
            ]
          },
          "metadata": {
            "tags": [],
            "needs_background": "light"
          }
        }
      ]
    },
    {
      "cell_type": "markdown",
      "metadata": {
        "id": "V7sgM8Bl_Ddi",
        "colab_type": "text"
      },
      "source": [
        "## 4. Removing Missing Values"
      ]
    },
    {
      "cell_type": "code",
      "metadata": {
        "id": "M3N6VzM3_J-Z",
        "colab_type": "code",
        "outputId": "80dc3fa6-abc1-4be1-9b13-845ec15404a3",
        "colab": {
          "base_uri": "https://localhost:8080/",
          "height": 197
        }
      },
      "source": [
        "# dealing with missing value\n",
        "\n",
        "Total = data.isnull().sum().sort_values(ascending=False)\n",
        "# summarize the amount of missing value in each attributes, and then sort it by descending order\n",
        "# percent = the counts of missing value /the counts of item (in each attribute)\n",
        "percent = (data.isnull().sum()/data.isnull().count()).sort_values(ascending=False)\n",
        "missing_data = pd.concat([Total,percent],axis=1,keys=['Total','Percent'])\n",
        "missing_data.head()"
      ],
      "execution_count": 7,
      "outputs": [
        {
          "output_type": "execute_result",
          "data": {
            "text/html": [
              "<div>\n",
              "<style scoped>\n",
              "    .dataframe tbody tr th:only-of-type {\n",
              "        vertical-align: middle;\n",
              "    }\n",
              "\n",
              "    .dataframe tbody tr th {\n",
              "        vertical-align: top;\n",
              "    }\n",
              "\n",
              "    .dataframe thead th {\n",
              "        text-align: right;\n",
              "    }\n",
              "</style>\n",
              "<table border=\"1\" class=\"dataframe\">\n",
              "  <thead>\n",
              "    <tr style=\"text-align: right;\">\n",
              "      <th></th>\n",
              "      <th>Total</th>\n",
              "      <th>Percent</th>\n",
              "    </tr>\n",
              "  </thead>\n",
              "  <tbody>\n",
              "    <tr>\n",
              "      <th>ps_calc_20_bin</th>\n",
              "      <td>1</td>\n",
              "      <td>0.000031</td>\n",
              "    </tr>\n",
              "    <tr>\n",
              "      <th>ps_calc_09</th>\n",
              "      <td>1</td>\n",
              "      <td>0.000031</td>\n",
              "    </tr>\n",
              "    <tr>\n",
              "      <th>ps_calc_19_bin</th>\n",
              "      <td>1</td>\n",
              "      <td>0.000031</td>\n",
              "    </tr>\n",
              "    <tr>\n",
              "      <th>ps_calc_02</th>\n",
              "      <td>1</td>\n",
              "      <td>0.000031</td>\n",
              "    </tr>\n",
              "    <tr>\n",
              "      <th>ps_calc_03</th>\n",
              "      <td>1</td>\n",
              "      <td>0.000031</td>\n",
              "    </tr>\n",
              "  </tbody>\n",
              "</table>\n",
              "</div>"
            ],
            "text/plain": [
              "                Total   Percent\n",
              "ps_calc_20_bin      1  0.000031\n",
              "ps_calc_09          1  0.000031\n",
              "ps_calc_19_bin      1  0.000031\n",
              "ps_calc_02          1  0.000031\n",
              "ps_calc_03          1  0.000031"
            ]
          },
          "metadata": {
            "tags": []
          },
          "execution_count": 7
        }
      ]
    },
    {
      "cell_type": "code",
      "metadata": {
        "id": "sVlM4nHVJ1fz",
        "colab_type": "code",
        "colab": {}
      },
      "source": [
        "data = data.dropna()"
      ],
      "execution_count": 0,
      "outputs": []
    },
    {
      "cell_type": "markdown",
      "metadata": {
        "id": "n0n0-wD_S-o3",
        "colab_type": "text"
      },
      "source": [
        "Standarding the Porto dataset"
      ]
    },
    {
      "cell_type": "code",
      "metadata": {
        "id": "mDpgg7-FTLg0",
        "colab_type": "code",
        "outputId": "65e07c3a-0ec1-4c97-f725-dff9e28831a3",
        "colab": {
          "base_uri": "https://localhost:8080/",
          "height": 273
        }
      },
      "source": [
        "# Standardising dataset - Porto\n",
        "data_copy = data.copy()\n",
        "for col in data_copy.select_dtypes(include='number').columns:\n",
        "    mms = MinMaxScaler()\n",
        "    data_copy[col] = mms.fit_transform(data_copy[[col]])\n",
        "data_copy.describe()\n",
        "\n",
        "# separate the data in to x and y\n",
        "data_X = data_copy.drop('target', axis = 1)\n",
        "data_X=data_X.values\n",
        "data_Y = np.array(data_copy['target'])\n",
        "print(\"data:\",data_X)\n",
        "print(data_X.shape)\n",
        "print(data_Y.shape)"
      ],
      "execution_count": 10,
      "outputs": [
        {
          "output_type": "stream",
          "text": [
            "data: [[0.00000000e+00 2.85714286e-01 6.00000000e-01 ... 0.00000000e+00\n",
            "  0.00000000e+00 1.00000000e+00]\n",
            " [2.45077015e-05 1.42857143e-01 4.00000000e-01 ... 0.00000000e+00\n",
            "  1.00000000e+00 0.00000000e+00]\n",
            " [7.35231046e-05 7.14285714e-01 1.00000000e+00 ... 0.00000000e+00\n",
            "  1.00000000e+00 0.00000000e+00]\n",
            " ...\n",
            " [9.99926477e-01 0.00000000e+00 6.00000000e-01 ... 0.00000000e+00\n",
            "  1.00000000e+00 1.00000000e+00]\n",
            " [9.99938731e-01 1.42857143e-01 4.00000000e-01 ... 0.00000000e+00\n",
            "  1.00000000e+00 0.00000000e+00]\n",
            " [1.00000000e+00 1.42857143e-01 4.00000000e-01 ... 0.00000000e+00\n",
            "  0.00000000e+00 0.00000000e+00]]\n",
            "(32558, 58)\n",
            "(32558,)\n"
          ],
          "name": "stdout"
        }
      ]
    },
    {
      "cell_type": "markdown",
      "metadata": {
        "id": "CZGuHw67IS4o",
        "colab_type": "text"
      },
      "source": [
        "## Supervised Learning Phase\n",
        "### Decision tree Classifier &  Random forest Classifier (cross-validation)"
      ]
    },
    {
      "cell_type": "code",
      "metadata": {
        "id": "U-a_ILqfIkzA",
        "colab_type": "code",
        "outputId": "23b5f5d4-9651-4c08-f369-e5d5cf5c4964",
        "colab": {
          "base_uri": "https://localhost:8080/",
          "height": 1000
        }
      },
      "source": [
        "## Decision tree Classifier\n",
        "#Import library\n",
        "from sklearn import tree\n",
        "from sklearn.metrics import confusion_matrix, roc_auc_score ,roc_curve,auc\n",
        "from sklearn.metrics import precision_score, recall_score, f1_score\n",
        "from sklearn.model_selection import StratifiedKFold\n",
        "\n",
        "Skf = StratifiedKFold(n_splits=10,shuffle=True,random_state=49)\n",
        "pred_test_full =0\n",
        "cv_PrecisionDT =[]\n",
        "cv_RecallDT =[]\n",
        "cv_F1scoreDT =[]\n",
        "cv_ScoreDTROCAUC = []\n",
        "i=1\n",
        "for train_index,test_index in Skf.split(data_X,data_Y):\n",
        "    print('{} of KFold {}'.format(i,Skf.n_splits))\n",
        "    x_tr,x_v = data_X[train_index],data_X[test_index]\n",
        "    y_tr,y_v = data_Y[train_index],data_Y[test_index]\n",
        "    \n",
        "    #model\n",
        "    modelDT = tree.DecisionTreeClassifier(criterion = \"entropy\",random_state=1)\n",
        "    # model = tree.DecisionTreeClassifier(max_depth=5,max_leaf_nodes=15, max_features=14, criterion = \"entropy\",random_state=1)\n",
        "    modelDT.fit(x_tr,y_tr)\n",
        "    PrecisionDT=precision_score(y_v,modelDT.predict(x_v))\n",
        "    RecallDT=recall_score(y_v,modelDT.predict(x_v))\n",
        "    F1scoreDT=f1_score(y_v,modelDT.predict(x_v))\n",
        "    ScoreDTROCAUC = roc_auc_score(y_v,modelDT.predict(x_v))\n",
        "\n",
        "    cv_PrecisionDT.append(PrecisionDT)\n",
        "    cv_RecallDT.append(RecallDT)\n",
        "    cv_F1scoreDT.append(F1scoreDT)\n",
        "    cv_ScoreDTROCAUC.append(ScoreDTROCAUC)\n",
        "\n",
        "    print('Confusion matrix\\n',confusion_matrix(y_v,modelDT.predict(x_v)))\n",
        "    print('Precision:', precision_score(y_v,modelDT.predict(x_v)))\n",
        "    print('Recall:',recall_score(y_v,modelDT.predict(x_v)))\n",
        "    print('F1 score:', f1_score(y_v,modelDT.predict(x_v)))\n",
        "    print('ROC AUC score:',ScoreDTROCAUC)\n",
        "\n",
        "    i+=1 "
      ],
      "execution_count": 13,
      "outputs": [
        {
          "output_type": "stream",
          "text": [
            "1 of KFold 10\n",
            "Confusion matrix\n",
            " [[2993  142]\n",
            " [ 112    9]]\n",
            "Precision: 0.059602649006622516\n",
            "Recall: 0.0743801652892562\n",
            "F1 score: 0.0661764705882353\n",
            "ROC AUC score: 0.5145425547339423\n",
            "2 of KFold 10\n",
            "Confusion matrix\n",
            " [[3005  130]\n",
            " [ 115    6]]\n",
            "Precision: 0.04411764705882353\n",
            "Recall: 0.049586776859504134\n",
            "F1 score: 0.04669260700389105\n",
            "ROC AUC score: 0.5040597361171525\n",
            "3 of KFold 10\n",
            "Confusion matrix\n",
            " [[2997  138]\n",
            " [ 111   10]]\n",
            "Precision: 0.06756756756756757\n",
            "Recall: 0.08264462809917356\n",
            "F1 score: 0.07434944237918216\n",
            "ROC AUC score: 0.5193127446715963\n",
            "4 of KFold 10\n",
            "Confusion matrix\n",
            " [[2971  164]\n",
            " [ 112    9]]\n",
            "Precision: 0.05202312138728324\n",
            "Recall: 0.0743801652892562\n",
            "F1 score: 0.06122448979591837\n",
            "ROC AUC score: 0.5110337828041177\n",
            "5 of KFold 10\n",
            "Confusion matrix\n",
            " [[2991  144]\n",
            " [ 114    7]]\n",
            "Precision: 0.046357615894039736\n",
            "Recall: 0.05785123966942149\n",
            "F1 score: 0.051470588235294115\n",
            "ROC AUC score: 0.5059591126576773\n",
            "6 of KFold 10\n",
            "Confusion matrix\n",
            " [[3002  133]\n",
            " [ 114    7]]\n",
            "Precision: 0.05\n",
            "Recall: 0.05785123966942149\n",
            "F1 score: 0.05363984674329502\n",
            "ROC AUC score: 0.5077134986225895\n",
            "7 of KFold 10\n",
            "Confusion matrix\n",
            " [[2990  145]\n",
            " [ 115    6]]\n",
            "Precision: 0.039735099337748346\n",
            "Recall: 0.049586776859504134\n",
            "F1 score: 0.04411764705882353\n",
            "ROC AUC score: 0.5016673916195448\n",
            "8 of KFold 10\n",
            "Confusion matrix\n",
            " [[2993  142]\n",
            " [ 114    7]]\n",
            "Precision: 0.04697986577181208\n",
            "Recall: 0.05785123966942149\n",
            "F1 score: 0.05185185185185185\n",
            "ROC AUC score: 0.506278091924025\n",
            "9 of KFold 10\n",
            "Confusion matrix\n",
            " [[2988  146]\n",
            " [ 113    8]]\n",
            "Precision: 0.05194805194805195\n",
            "Recall: 0.06611570247933884\n",
            "F1 score: 0.05818181818181819\n",
            "ROC AUC score: 0.5097649348389036\n",
            "10 of KFold 10\n",
            "Confusion matrix\n",
            " [[3007  127]\n",
            " [ 117    4]]\n",
            "Precision: 0.030534351145038167\n",
            "Recall: 0.03305785123966942\n",
            "F1 score: 0.03174603174603175\n",
            "ROC AUC score: 0.49626727916163427\n"
          ],
          "name": "stdout"
        }
      ]
    },
    {
      "cell_type": "code",
      "metadata": {
        "id": "HUq3fEqskqe3",
        "colab_type": "code",
        "outputId": "9217fd27-90cd-4f6f-fe2f-3ed689f33c2c",
        "colab": {
          "base_uri": "https://localhost:8080/",
          "height": 151
        }
      },
      "source": [
        "from statistics import mean, stdev\n",
        "print(\"Mean of Precision:\", round(mean(cv_PrecisionDT),7), '\\nStandard Deviation of Precision:', round(stdev(cv_percisionDT),7))\n",
        "print(\"Mean of Recall:\", round(mean(cv_RecallDT),7), '\\nStandard Deviation of Recall:', round(stdev(cv_recallDT),7))\n",
        "print(\"Mean of F1score:\", round(mean(cv_F1scoreDT),7), '\\nStandard Deviation of F1score:', round(stdev(cv_F1scoreDT),7))\n",
        "print(\"Mean of ROC AUC score:\", round(mean(cv_ScoreDTROCAUC),7), '\\nStandard Deviation of ROC AUC score:', round(stdev(cv_ScoreDTROCAUC),7))"
      ],
      "execution_count": 15,
      "outputs": [
        {
          "output_type": "stream",
          "text": [
            "Mean of Precision: 0.0488866 \n",
            "Standard Deviation of Precision: 0.0102067\n",
            "Mean of Recall: 0.0603306 \n",
            "Standard Deviation of Recall: 0.0146031\n",
            "Mean of F1score: 0.0539451 \n",
            "Standard Deviation of F1score: 0.0119697\n",
            "Mean of ROC AUC score: 0.5076599 \n",
            "Standard Deviation of ROC AUC score: 0.0065187\n"
          ],
          "name": "stdout"
        }
      ]
    },
    {
      "cell_type": "code",
      "metadata": {
        "id": "rD_uevDfoEFF",
        "colab_type": "code",
        "outputId": "8702aa3d-8757-4de4-e0ac-457af17e315f",
        "colab": {
          "base_uri": "https://localhost:8080/",
          "height": 1000
        }
      },
      "source": [
        "## Random forest\n",
        "from sklearn.ensemble import RandomForestClassifier\n",
        "cv_PrecisionRF =[]\n",
        "cv_RecallRF =[]\n",
        "cv_F1scoreRF =[]\n",
        "cv_ScoreROCAUCRF = []\n",
        "i=1\n",
        "for train_index,test_index in Skf.split(data_X,data_Y):\n",
        "    print('{} of KFold {}'.format(i,Skf.n_splits))\n",
        "    x_tr,x_v = data_X[train_index],data_X[test_index]\n",
        "    y_tr,y_v = data_Y[train_index],data_Y[test_index]\n",
        "    \n",
        "    #model\n",
        "    modelRF = RandomForestClassifier(random_state=1)\n",
        "    modelRF.fit(x_tr,y_tr)\n",
        "\n",
        "    PrecisionRF=precision_score(y_v,modelRF.predict(x_v))\n",
        "    RecallRF=recall_score(y_v,modelRF.predict(x_v))\n",
        "    F1scoreRF=f1_score(y_v,modelRF.predict(x_v))\n",
        "    ScoreROCAUCRF = roc_auc_score(y_v,modelRF.predict(x_v))\n",
        "\n",
        "    cv_PrecisionRF.append(PrecisionRF)\n",
        "    cv_RecallRF.append(RecallRF)\n",
        "    cv_F1scoreRF.append(F1scoreRF)\n",
        "    cv_ScoreROCAUCRF.append(ScoreROCAUCRF)\n",
        "\n",
        "    print('Confusion Matrix\\n',confusion_matrix(y_v,modelRF.predict(x_v)))\n",
        "    print('Precision:', precision_score(y_v,modelRF.predict(x_v)))\n",
        "    print('Recall:',recall_score(y_v,modelRF.predict(x_v)))\n",
        "    print('F1 score:', f1_score(y_v,modelRF.predict(x_v)))\n",
        "    print('ROC AUC score:',ScoreROCAUCRF)\n",
        "\n",
        "    i+=1"
      ],
      "execution_count": 17,
      "outputs": [
        {
          "output_type": "stream",
          "text": [
            "1 of KFold 10\n"
          ],
          "name": "stdout"
        },
        {
          "output_type": "stream",
          "text": [
            "/usr/local/lib/python3.6/dist-packages/sklearn/metrics/_classification.py:1272: UndefinedMetricWarning: Precision is ill-defined and being set to 0.0 due to no predicted samples. Use `zero_division` parameter to control this behavior.\n",
            "  _warn_prf(average, modifier, msg_start, len(result))\n"
          ],
          "name": "stderr"
        },
        {
          "output_type": "stream",
          "text": [
            "Confusion Matrix\n",
            " [[3135    0]\n",
            " [ 121    0]]\n",
            "Precision: 0.0\n",
            "Recall: 0.0\n"
          ],
          "name": "stdout"
        },
        {
          "output_type": "stream",
          "text": [
            "/usr/local/lib/python3.6/dist-packages/sklearn/metrics/_classification.py:1272: UndefinedMetricWarning: Precision is ill-defined and being set to 0.0 due to no predicted samples. Use `zero_division` parameter to control this behavior.\n",
            "  _warn_prf(average, modifier, msg_start, len(result))\n"
          ],
          "name": "stderr"
        },
        {
          "output_type": "stream",
          "text": [
            "F1 score: 0.0\n",
            "ROC AUC score: 0.5\n",
            "2 of KFold 10\n"
          ],
          "name": "stdout"
        },
        {
          "output_type": "stream",
          "text": [
            "/usr/local/lib/python3.6/dist-packages/sklearn/metrics/_classification.py:1272: UndefinedMetricWarning: Precision is ill-defined and being set to 0.0 due to no predicted samples. Use `zero_division` parameter to control this behavior.\n",
            "  _warn_prf(average, modifier, msg_start, len(result))\n"
          ],
          "name": "stderr"
        },
        {
          "output_type": "stream",
          "text": [
            "Confusion Matrix\n",
            " [[3135    0]\n",
            " [ 121    0]]\n",
            "Precision: 0.0\n",
            "Recall: 0.0\n"
          ],
          "name": "stdout"
        },
        {
          "output_type": "stream",
          "text": [
            "/usr/local/lib/python3.6/dist-packages/sklearn/metrics/_classification.py:1272: UndefinedMetricWarning: Precision is ill-defined and being set to 0.0 due to no predicted samples. Use `zero_division` parameter to control this behavior.\n",
            "  _warn_prf(average, modifier, msg_start, len(result))\n"
          ],
          "name": "stderr"
        },
        {
          "output_type": "stream",
          "text": [
            "F1 score: 0.0\n",
            "ROC AUC score: 0.5\n",
            "3 of KFold 10\n"
          ],
          "name": "stdout"
        },
        {
          "output_type": "stream",
          "text": [
            "/usr/local/lib/python3.6/dist-packages/sklearn/metrics/_classification.py:1272: UndefinedMetricWarning: Precision is ill-defined and being set to 0.0 due to no predicted samples. Use `zero_division` parameter to control this behavior.\n",
            "  _warn_prf(average, modifier, msg_start, len(result))\n"
          ],
          "name": "stderr"
        },
        {
          "output_type": "stream",
          "text": [
            "Confusion Matrix\n",
            " [[3135    0]\n",
            " [ 121    0]]\n",
            "Precision: 0.0\n",
            "Recall: 0.0\n"
          ],
          "name": "stdout"
        },
        {
          "output_type": "stream",
          "text": [
            "/usr/local/lib/python3.6/dist-packages/sklearn/metrics/_classification.py:1272: UndefinedMetricWarning: Precision is ill-defined and being set to 0.0 due to no predicted samples. Use `zero_division` parameter to control this behavior.\n",
            "  _warn_prf(average, modifier, msg_start, len(result))\n"
          ],
          "name": "stderr"
        },
        {
          "output_type": "stream",
          "text": [
            "F1 score: 0.0\n",
            "ROC AUC score: 0.5\n",
            "4 of KFold 10\n"
          ],
          "name": "stdout"
        },
        {
          "output_type": "stream",
          "text": [
            "/usr/local/lib/python3.6/dist-packages/sklearn/metrics/_classification.py:1272: UndefinedMetricWarning: Precision is ill-defined and being set to 0.0 due to no predicted samples. Use `zero_division` parameter to control this behavior.\n",
            "  _warn_prf(average, modifier, msg_start, len(result))\n"
          ],
          "name": "stderr"
        },
        {
          "output_type": "stream",
          "text": [
            "Confusion Matrix\n",
            " [[3135    0]\n",
            " [ 121    0]]\n",
            "Precision: 0.0\n",
            "Recall: 0.0\n"
          ],
          "name": "stdout"
        },
        {
          "output_type": "stream",
          "text": [
            "/usr/local/lib/python3.6/dist-packages/sklearn/metrics/_classification.py:1272: UndefinedMetricWarning: Precision is ill-defined and being set to 0.0 due to no predicted samples. Use `zero_division` parameter to control this behavior.\n",
            "  _warn_prf(average, modifier, msg_start, len(result))\n"
          ],
          "name": "stderr"
        },
        {
          "output_type": "stream",
          "text": [
            "F1 score: 0.0\n",
            "ROC AUC score: 0.5\n",
            "5 of KFold 10\n"
          ],
          "name": "stdout"
        },
        {
          "output_type": "stream",
          "text": [
            "/usr/local/lib/python3.6/dist-packages/sklearn/metrics/_classification.py:1272: UndefinedMetricWarning: Precision is ill-defined and being set to 0.0 due to no predicted samples. Use `zero_division` parameter to control this behavior.\n",
            "  _warn_prf(average, modifier, msg_start, len(result))\n"
          ],
          "name": "stderr"
        },
        {
          "output_type": "stream",
          "text": [
            "Confusion Matrix\n",
            " [[3135    0]\n",
            " [ 121    0]]\n",
            "Precision: 0.0\n",
            "Recall: 0.0\n"
          ],
          "name": "stdout"
        },
        {
          "output_type": "stream",
          "text": [
            "/usr/local/lib/python3.6/dist-packages/sklearn/metrics/_classification.py:1272: UndefinedMetricWarning: Precision is ill-defined and being set to 0.0 due to no predicted samples. Use `zero_division` parameter to control this behavior.\n",
            "  _warn_prf(average, modifier, msg_start, len(result))\n"
          ],
          "name": "stderr"
        },
        {
          "output_type": "stream",
          "text": [
            "F1 score: 0.0\n",
            "ROC AUC score: 0.5\n",
            "6 of KFold 10\n"
          ],
          "name": "stdout"
        },
        {
          "output_type": "stream",
          "text": [
            "/usr/local/lib/python3.6/dist-packages/sklearn/metrics/_classification.py:1272: UndefinedMetricWarning: Precision is ill-defined and being set to 0.0 due to no predicted samples. Use `zero_division` parameter to control this behavior.\n",
            "  _warn_prf(average, modifier, msg_start, len(result))\n"
          ],
          "name": "stderr"
        },
        {
          "output_type": "stream",
          "text": [
            "Confusion Matrix\n",
            " [[3135    0]\n",
            " [ 121    0]]\n",
            "Precision: 0.0\n",
            "Recall: 0.0\n"
          ],
          "name": "stdout"
        },
        {
          "output_type": "stream",
          "text": [
            "/usr/local/lib/python3.6/dist-packages/sklearn/metrics/_classification.py:1272: UndefinedMetricWarning: Precision is ill-defined and being set to 0.0 due to no predicted samples. Use `zero_division` parameter to control this behavior.\n",
            "  _warn_prf(average, modifier, msg_start, len(result))\n"
          ],
          "name": "stderr"
        },
        {
          "output_type": "stream",
          "text": [
            "F1 score: 0.0\n",
            "ROC AUC score: 0.5\n",
            "7 of KFold 10\n"
          ],
          "name": "stdout"
        },
        {
          "output_type": "stream",
          "text": [
            "/usr/local/lib/python3.6/dist-packages/sklearn/metrics/_classification.py:1272: UndefinedMetricWarning: Precision is ill-defined and being set to 0.0 due to no predicted samples. Use `zero_division` parameter to control this behavior.\n",
            "  _warn_prf(average, modifier, msg_start, len(result))\n"
          ],
          "name": "stderr"
        },
        {
          "output_type": "stream",
          "text": [
            "Confusion Matrix\n",
            " [[3135    0]\n",
            " [ 121    0]]\n",
            "Precision: 0.0\n",
            "Recall: 0.0\n"
          ],
          "name": "stdout"
        },
        {
          "output_type": "stream",
          "text": [
            "/usr/local/lib/python3.6/dist-packages/sklearn/metrics/_classification.py:1272: UndefinedMetricWarning: Precision is ill-defined and being set to 0.0 due to no predicted samples. Use `zero_division` parameter to control this behavior.\n",
            "  _warn_prf(average, modifier, msg_start, len(result))\n"
          ],
          "name": "stderr"
        },
        {
          "output_type": "stream",
          "text": [
            "F1 score: 0.0\n",
            "ROC AUC score: 0.5\n",
            "8 of KFold 10\n"
          ],
          "name": "stdout"
        },
        {
          "output_type": "stream",
          "text": [
            "/usr/local/lib/python3.6/dist-packages/sklearn/metrics/_classification.py:1272: UndefinedMetricWarning: Precision is ill-defined and being set to 0.0 due to no predicted samples. Use `zero_division` parameter to control this behavior.\n",
            "  _warn_prf(average, modifier, msg_start, len(result))\n"
          ],
          "name": "stderr"
        },
        {
          "output_type": "stream",
          "text": [
            "Confusion Matrix\n",
            " [[3135    0]\n",
            " [ 121    0]]\n",
            "Precision: 0.0\n",
            "Recall: 0.0\n"
          ],
          "name": "stdout"
        },
        {
          "output_type": "stream",
          "text": [
            "/usr/local/lib/python3.6/dist-packages/sklearn/metrics/_classification.py:1272: UndefinedMetricWarning: Precision is ill-defined and being set to 0.0 due to no predicted samples. Use `zero_division` parameter to control this behavior.\n",
            "  _warn_prf(average, modifier, msg_start, len(result))\n"
          ],
          "name": "stderr"
        },
        {
          "output_type": "stream",
          "text": [
            "F1 score: 0.0\n",
            "ROC AUC score: 0.5\n",
            "9 of KFold 10\n"
          ],
          "name": "stdout"
        },
        {
          "output_type": "stream",
          "text": [
            "/usr/local/lib/python3.6/dist-packages/sklearn/metrics/_classification.py:1272: UndefinedMetricWarning: Precision is ill-defined and being set to 0.0 due to no predicted samples. Use `zero_division` parameter to control this behavior.\n",
            "  _warn_prf(average, modifier, msg_start, len(result))\n"
          ],
          "name": "stderr"
        },
        {
          "output_type": "stream",
          "text": [
            "Confusion Matrix\n",
            " [[3134    0]\n",
            " [ 121    0]]\n",
            "Precision: 0.0\n",
            "Recall: 0.0\n"
          ],
          "name": "stdout"
        },
        {
          "output_type": "stream",
          "text": [
            "/usr/local/lib/python3.6/dist-packages/sklearn/metrics/_classification.py:1272: UndefinedMetricWarning: Precision is ill-defined and being set to 0.0 due to no predicted samples. Use `zero_division` parameter to control this behavior.\n",
            "  _warn_prf(average, modifier, msg_start, len(result))\n"
          ],
          "name": "stderr"
        },
        {
          "output_type": "stream",
          "text": [
            "F1 score: 0.0\n",
            "ROC AUC score: 0.5\n",
            "10 of KFold 10\n"
          ],
          "name": "stdout"
        },
        {
          "output_type": "stream",
          "text": [
            "/usr/local/lib/python3.6/dist-packages/sklearn/metrics/_classification.py:1272: UndefinedMetricWarning: Precision is ill-defined and being set to 0.0 due to no predicted samples. Use `zero_division` parameter to control this behavior.\n",
            "  _warn_prf(average, modifier, msg_start, len(result))\n"
          ],
          "name": "stderr"
        },
        {
          "output_type": "stream",
          "text": [
            "Confusion Matrix\n",
            " [[3134    0]\n",
            " [ 121    0]]\n",
            "Precision: 0.0\n",
            "Recall: 0.0\n",
            "F1 score: 0.0\n",
            "ROC AUC score: 0.5\n"
          ],
          "name": "stdout"
        },
        {
          "output_type": "stream",
          "text": [
            "/usr/local/lib/python3.6/dist-packages/sklearn/metrics/_classification.py:1272: UndefinedMetricWarning: Precision is ill-defined and being set to 0.0 due to no predicted samples. Use `zero_division` parameter to control this behavior.\n",
            "  _warn_prf(average, modifier, msg_start, len(result))\n"
          ],
          "name": "stderr"
        }
      ]
    },
    {
      "cell_type": "code",
      "metadata": {
        "id": "7nGPNhpJs5fd",
        "colab_type": "code",
        "outputId": "f2e58bae-ef97-4e4a-c91e-1c3e54d97292",
        "colab": {
          "base_uri": "https://localhost:8080/",
          "height": 151
        }
      },
      "source": [
        "from statistics import mean, stdev\n",
        "print(\"Mean of Precision:\", round(mean(cv_PrecisionRF),7), '\\nStandard Deviation of percision:', round(stdev(cv_PrecisionRF),7))\n",
        "print(\"Mean of Recall:\", round(mean(cv_RecallRF),7), '\\nStandard Deviation of recall:', round(stdev(cv_RecallRF),7))\n",
        "print(\"Mean of F1score:\", round(mean(cv_F1scoreRF),7), '\\nStandard Deviation of F1score:', round(stdev(cv_F1scoreRF),7))\n",
        "print(\"Mean of ROC AUC Score:\", round(mean(cv_ScoreROCAUCRF),7), '\\nStandard Deviation of Roc score:', round(stdev(cv_ScoreROCAUCRF),7))"
      ],
      "execution_count": 19,
      "outputs": [
        {
          "output_type": "stream",
          "text": [
            "Mean of Precision: 0.0 \n",
            "Standard Deviation of percision: 0.0\n",
            "Mean of Recall: 0.0 \n",
            "Standard Deviation of recall: 0.0\n",
            "Mean of F1score: 0.0 \n",
            "Standard Deviation of F1score: 0.0\n",
            "Mean of ROC AUC Score: 0.5 \n",
            "Standard Deviation of Roc score: 0.0\n"
          ],
          "name": "stdout"
        }
      ]
    },
    {
      "cell_type": "markdown",
      "metadata": {
        "id": "_Co-aghfwvrV",
        "colab_type": "text"
      },
      "source": [
        "## Unsupervised Machine Learning Phase\n",
        "\n",
        "Identifying the number of clusters using the Elbow method and the Silhouette method of heuristics."
      ]
    },
    {
      "cell_type": "code",
      "metadata": {
        "id": "gSrHmN-ySqgd",
        "colab_type": "code",
        "outputId": "7d28a1f7-b10c-4b40-9f00-42915d77dd37",
        "colab": {
          "base_uri": "https://localhost:8080/",
          "height": 1000
        }
      },
      "source": [
        "from sklearn.cluster import KMeans\n",
        "from sklearn.metrics import silhouette_samples, silhouette_score\n",
        "\n",
        "Skf = StratifiedKFold(n_splits=10,shuffle=True,random_state=49)\n",
        "pred_test_full =0\n",
        "i=1\n",
        "scoreE1_all=[]\n",
        "for train_index,test_index in Skf.split(data_X,data_Y):\n",
        "    print('{} of KFold {}'.format(i,Skf.n_splits))\n",
        "    x_tr,x_v = data_X[train_index],data_X[test_index]\n",
        "    y_tr,y_v = data_Y[train_index],data_Y[test_index]\n",
        "\n",
        "    scoreEl = []\n",
        "    for cluster in range(1,9):\n",
        "        kmeans = KMeans(n_clusters = cluster, init=\"k-means++\", random_state=49)\n",
        "        kmeans.fit(x_tr)\n",
        "        scoreEl.append(kmeans.inertia_)\n",
        "    scoreE1_all.append(scoreEl)\n",
        "\n",
        "    # plotting the score\n",
        "\n",
        "    plt.plot(range(1,9), scoreEl, 'g-o')\n",
        "    plt.title('ELBOW METHOD')\n",
        "    plt.xlabel('CLUSTERS')\n",
        "    plt.ylabel('Total within-cluster sum of square')\n",
        "    plt.show()\n",
        "    i+=1\n",
        "    ## Total within-cluster sum of square: https://www.jamleecute.com/partitional-clustering-kmeans-kmedoid/"
      ],
      "execution_count": 20,
      "outputs": [
        {
          "output_type": "stream",
          "text": [
            "1 of KFold 10\n"
          ],
          "name": "stdout"
        },
        {
          "output_type": "display_data",
          "data": {
            "image/png": "[encoded data removed]",
            "text/plain": [
              "<Figure size 432x288 with 1 Axes>"
            ]
          },
          "metadata": {
            "tags": [],
            "needs_background": "light"
          }
        },
        {
          "output_type": "stream",
          "text": [
            "2 of KFold 10\n"
          ],
          "name": "stdout"
        },
        {
          "output_type": "display_data",
          "data": {
            "image/png": "[encoded data removed]",
            "text/plain": [
              "<Figure size 432x288 with 1 Axes>"
            ]
          },
          "metadata": {
            "tags": [],
            "needs_background": "light"
          }
        },
        {
          "output_type": "stream",
          "text": [
            "3 of KFold 10\n"
          ],
          "name": "stdout"
        },
        {
          "output_type": "display_data",
          "data": {
            "image/png": "[encoded data removed]",
            "text/plain": [
              "<Figure size 432x288 with 1 Axes>"
            ]
          },
          "metadata": {
            "tags": [],
            "needs_background": "light"
          }
        },
        {
          "output_type": "stream",
          "text": [
            "4 of KFold 10\n"
          ],
          "name": "stdout"
        },
        {
          "output_type": "display_data",
          "data": {
            "image/png": "[encoded data removed]",
            "text/plain": [
              "<Figure size 432x288 with 1 Axes>"
            ]
          },
          "metadata": {
            "tags": [],
            "needs_background": "light"
          }
        },
        {
          "output_type": "stream",
          "text": [
            "5 of KFold 10\n"
          ],
          "name": "stdout"
        },
        {
          "output_type": "display_data",
          "data": {
            "image/png": "[encoded data removed]",
            "text/plain": [
              "<Figure size 432x288 with 1 Axes>"
            ]
          },
          "metadata": {
            "tags": [],
            "needs_background": "light"
          }
        },
        {
          "output_type": "stream",
          "text": [
            "6 of KFold 10\n"
          ],
          "name": "stdout"
        },
        {
          "output_type": "display_data",
          "data": {
            "image/png": "[encoded data removed]",
            "text/plain": [
              "<Figure size 432x288 with 1 Axes>"
            ]
          },
          "metadata": {
            "tags": [],
            "needs_background": "light"
          }
        },
        {
          "output_type": "stream",
          "text": [
            "7 of KFold 10\n"
          ],
          "name": "stdout"
        },
        {
          "output_type": "display_data",
          "data": {
            "image/png": "[encoded data removed]",
            "text/plain": [
              "<Figure size 432x288 with 1 Axes>"
            ]
          },
          "metadata": {
            "tags": [],
            "needs_background": "light"
          }
        },
        {
          "output_type": "stream",
          "text": [
            "8 of KFold 10\n"
          ],
          "name": "stdout"
        },
        {
          "output_type": "display_data",
          "data": {
            "image/png": "[encoded data removed]",
            "text/plain": [
              "<Figure size 432x288 with 1 Axes>"
            ]
          },
          "metadata": {
            "tags": [],
            "needs_background": "light"
          }
        },
        {
          "output_type": "stream",
          "text": [
            "9 of KFold 10\n"
          ],
          "name": "stdout"
        },
        {
          "output_type": "display_data",
          "data": {
            "image/png": "[encoded data removed]",
            "text/plain": [
              "<Figure size 432x288 with 1 Axes>"
            ]
          },
          "metadata": {
            "tags": [],
            "needs_background": "light"
          }
        },
        {
          "output_type": "stream",
          "text": [
            "10 of KFold 10\n"
          ],
          "name": "stdout"
        },
        {
          "output_type": "display_data",
          "data": {
            "image/png": "[encoded data removed]",
            "text/plain": [
              "<Figure size 432x288 with 1 Axes>"
            ]
          },
          "metadata": {
            "tags": [],
            "needs_background": "light"
          }
        }
      ]
    },
    {
      "cell_type": "code",
      "metadata": {
        "id": "UAGdxUUzW3nv",
        "colab_type": "code",
        "colab": {}
      },
      "source": [
        "## Silhouette score\n",
        "### Ref_1: https://scikit-learn.org/stable/auto_examples/cluster/plot_kmeans_silhouette_analysis.html\n",
        "import matplotlib.cm as cm\n",
        "\n",
        "silhouette_avg_list = []\n",
        "n_clusters_list = []\n",
        "for n_clusters in range(2,9):\n",
        "    # Create a subplot with 1 row and 2 columns\n",
        "    fig, (ax1, ax2) = plt.subplots(1, 2)\n",
        "    fig.set_size_inches(18, 7)\n",
        "\n",
        "    # The 1st subplot is the silhouette plot\n",
        "    # The silhouette coefficient can range from -1, 1 but in this example all\n",
        "    # lie within [-0.1, 1]\n",
        "    ax1.set_xlim([-0.1, 1])\n",
        "    # The (n_clusters+1)*10 is for inserting blank space between silhouette\n",
        "    # plots of individual clusters, to demarcate them clearly.\n",
        "    ax1.set_ylim([0, len(x_tr) + (n_clusters + 1) * 10])\n",
        "\n",
        "    # Initialize the clusterer with n_clusters value and a random generator\n",
        "    # seed of 10 for reproducibility.\n",
        "    clusterer = KMeans(n_clusters=n_clusters, random_state=49)\n",
        "    cluster_labels = clusterer.fit_predict(x_tr)\n",
        "\n",
        "    # The silhouette_score gives the average value for all the samples.\n",
        "    # This gives a perspective into the density and separation of the formed\n",
        "    # clusters\n",
        "    silhouette_avg = silhouette_score(x_tr, cluster_labels)\n",
        "    print(\"For n_clusters =\", n_clusters,\n",
        "          \"The average silhouette_score is :\", silhouette_avg)\n",
        "    silhouette_avg_list += [silhouette_avg]\n",
        "    n_clusters_list += [n_clusters]\n",
        "    \n",
        "    # Compute the silhouette scores for each sample\n",
        "    sample_silhouette_values = silhouette_samples(x_tr, cluster_labels)\n",
        "\n",
        "    y_lower = 10\n",
        "    for i in range(n_clusters):\n",
        "        # Aggregate the silhouette scores for samples belonging to\n",
        "        # cluster i, and sort them\n",
        "        ith_cluster_silhouette_values = \\\n",
        "            sample_silhouette_values[cluster_labels == i]\n",
        "\n",
        "        ith_cluster_silhouette_values.sort()\n",
        "\n",
        "        size_cluster_i = ith_cluster_silhouette_values.shape[0]\n",
        "        y_upper = y_lower + size_cluster_i\n",
        "\n",
        "        color = cm.nipy_spectral(float(i) / n_clusters)\n",
        "        ax1.fill_betweenx(np.arange(y_lower, y_upper),\n",
        "                          0, ith_cluster_silhouette_values,\n",
        "                          facecolor=color, edgecolor=color, alpha=0.7)\n",
        "\n",
        "        # Label the silhouette plots with their cluster numbers at the middle\n",
        "        ax1.text(-0.05, y_lower + 0.5 * size_cluster_i, str(i))\n",
        "\n",
        "        # Compute the new y_lower for next plot\n",
        "        y_lower = y_upper + 10  # 10 for the 0 samples\n",
        "\n",
        "    ax1.set_title(\"The silhouette plot for the various clusters.\")\n",
        "    ax1.set_xlabel(\"The silhouette coefficient values\")\n",
        "    ax1.set_ylabel(\"Cluster label\")\n",
        "\n",
        "    # The vertical line for average silhouette score of all the values\n",
        "    ax1.axvline(x=silhouette_avg, color=\"red\", linestyle=\"--\")\n",
        "\n",
        "    ax1.set_yticks([])  # Clear the yaxis labels / ticks\n",
        "    ax1.set_xticks([-0.1, 0, 0.2, 0.4, 0.6, 0.8, 1])\n",
        "\n",
        "    # 2nd Plot showing the actual clusters formed\n",
        "    colors = cm.nipy_spectral(cluster_labels.astype(float) / n_clusters)\n",
        "    ax2.scatter(x_tr[:, 2], x_tr[:, 8], marker='.', s=30, lw=0, alpha=0.7,\n",
        "                c=colors, edgecolor='k')\n",
        "\n",
        "    # Labeling the clusters\n",
        "    centers = clusterer.cluster_centers_\n",
        "    # Draw white circles at cluster centers\n",
        "    ax2.scatter(centers[:, 2], centers[:, 8], marker='o',\n",
        "                c=\"white\", alpha=1, s=200, edgecolor='k')\n",
        "\n",
        "    for i, c in enumerate(centers):\n",
        "        ax2.scatter(c[2], c[8], marker='$%d$' % i, alpha=1,\n",
        "                    s=50, edgecolor='k')\n",
        "\n",
        "    ax2.set_title(\"The visualization of the clustered data.\")\n",
        "    ax2.set_xlabel(\"Feature space for the 3rd feature\")\n",
        "    ax2.set_ylabel(\"Feature space for the 9th feature\")\n",
        "    # ax2.set_xlabel(\"Feature space for the 1st feature\")\n",
        "    # ax2.set_ylabel(\"Feature space for the 2nd feature\")\n",
        "\n",
        "    plt.suptitle((\"Silhouette analysis for KMeans clustering on sample data \"\n",
        "                  \"with n_clusters = %d\" % n_clusters),\n",
        "                 fontsize=14, fontweight='bold')\n",
        "\n",
        "plt.show()"
      ],
      "execution_count": 0,
      "outputs": []
    },
    {
      "cell_type": "code",
      "metadata": {
        "id": "nX1e7e7oHv6R",
        "colab_type": "code",
        "colab": {}
      },
      "source": [
        "plt.plot(n_clusters_list, silhouette_avg_list, 'g-o')\n",
        "plt.title('The Silhouette method')\n",
        "plt.xlabel('no of clusters')\n",
        "plt.ylabel('The Silhouette score')\n",
        "plt.show()\n",
        "print(silhouette_avg_list)"
      ],
      "execution_count": 0,
      "outputs": []
    },
    {
      "cell_type": "markdown",
      "metadata": {
        "id": "tZ05FTkQvlqF",
        "colab_type": "text"
      },
      "source": [
        "### 6.2 K-mean method and save the information"
      ]
    },
    {
      "cell_type": "code",
      "metadata": {
        "id": "WQPbedWIH5Nq",
        "colab_type": "code",
        "outputId": "10e8a698-cecc-4f62-bd0b-f8a77d917975",
        "colab": {
          "base_uri": "https://localhost:8080/",
          "height": 566
        }
      },
      "source": [
        "## Ref: https://scikit-learn.org/stable/modules/generated/sklearn.cluster.KMeans.html\n",
        "from sklearn.cluster import KMeans\n",
        "kmeans = KMeans(n_clusters=2, random_state=49).fit(x_tr)\n",
        "kmLabels = kmeans.labels_\n",
        "Label = [np.count_nonzero(kmLabels==0),np.count_nonzero(kmLabels==1)]\n",
        "centroids = kmeans.cluster_centers_\n",
        "print('Label:', Label)\n",
        "print('Centroids',centroids)"
      ],
      "execution_count": 0,
      "outputs": [
        {
          "output_type": "stream",
          "text": [
            "Label: [324790, 210901]\n",
            "Centroids [[ 5.00125318e-01  3.34926304e-01  4.85275409e-01  4.11125790e-01\n",
            "   7.67403553e-01  1.99147581e-01  2.43549625e-12  4.23799994e-01\n",
            "   2.70276178e-01  3.05923828e-01  5.04941655e-04  1.89045229e-03\n",
            "   1.08223775e-02  1.18846024e-03  3.60155793e-03  5.57842345e-01\n",
            "   6.50543428e-01  1.30733705e-01  1.56642754e-01  6.84294467e-01\n",
            "   2.77399072e-01  3.20119401e-01  7.87558371e-01  8.94288617e-01\n",
            "   2.71227562e-01  1.16413683e-01  4.77128298e-01  4.01372108e-01\n",
            "   9.49712122e-01  8.20345454e-01  4.50111765e-01  4.97606146e-01\n",
            "   6.02119338e-01  8.33236861e-01  6.13805885e-01  1.76311380e-01\n",
            "   7.80893599e-01  8.45538186e-01  4.99409875e-01  4.99797134e-01\n",
            "   4.99134483e-01  4.74333569e-01  3.14136827e-01  7.69109271e-01\n",
            "   3.34241270e-01  7.22799963e-01  3.34395851e-01  3.37458789e-01\n",
            "   2.86436742e-01  1.43971181e-01  2.21075630e-01  3.27699905e-01\n",
            "   1.22063487e-01  6.28125866e-01  5.54444410e-01  2.87317959e-01\n",
            "   3.47606146e-01  1.52948059e-01]\n",
            " [ 4.99772553e-01  1.73773477e-01  4.51081787e-01  3.88244204e-01\n",
            "   6.17339415e-01  2.03041102e-01  1.00000000e+00 -8.50264303e-13\n",
            "   4.55413485e-13 -2.03892458e-13  1.56471520e-04  1.42246836e-03\n",
            "   7.33993675e-03  6.40110763e-04  2.38974685e-03  5.66787990e-01\n",
            "   6.76990626e-01  1.05803197e-01  1.48809157e-01  6.70585830e-01\n",
            "   1.92773439e-01  2.88867092e-01  7.55205049e-01  9.46937189e-01\n",
            "   2.10591699e-01  2.49248067e-02  3.34993670e-01  3.61312263e-01\n",
            "   9.63376181e-01  8.50152441e-01  4.89838360e-01  4.93743510e-01\n",
            "   5.81874908e-01  8.41570215e-01  6.02308314e-01  1.40244338e-01\n",
            "   7.78566278e-01  7.79086581e-01  4.99615670e-01  4.99114645e-01\n",
            "   5.00961747e-01  4.74259487e-01  3.14362347e-01  7.68662074e-01\n",
            "   3.33695273e-01  7.22341288e-01  3.33788297e-01  3.37158003e-01\n",
            "   2.86441206e-01  1.44359202e-01  2.20785691e-01  3.27848653e-01\n",
            "   1.22948682e-01  6.27811153e-01  5.54852751e-01  2.86883419e-01\n",
            "   3.50647934e-01  1.53337348e-01]]\n"
          ],
          "name": "stdout"
        }
      ]
    },
    {
      "cell_type": "markdown",
      "metadata": {
        "id": "VXEXg3nyMVHp",
        "colab_type": "text"
      },
      "source": [
        "## Amalgamating Supervised and Unsupervised Learning using Permutation Testing to build a new model to deal with imbalanced data"
      ]
    },
    {
      "cell_type": "code",
      "metadata": {
        "id": "KAzGALWJnRfg",
        "colab_type": "code",
        "outputId": "f7f8a0c5-3009-437b-a72e-830a0e0339b5",
        "colab": {
          "base_uri": "https://localhost:8080/",
          "height": 1000
        }
      },
      "source": [
        "## Partitioning the datasets into 10 bin keeping intact the original imbalance ratio fro \n",
        "\n",
        "Skf = StratifiedKFold(n_splits=10,shuffle=True,random_state=49)\n",
        "pred_test_full =0\n",
        "Label_all = []\n",
        "centroids_all = []\n",
        "\n",
        "cv_PrecisionRFnew =[]\n",
        "cv_RecallRFnew =[]\n",
        "cv_F1scoreRFnew =[]\n",
        "cv_ScoreROCAUCRFnew = []\n",
        "\n",
        "ConfusionMatrix_all = []\n",
        "\n",
        "i=1\n",
        "\n",
        "## Use different 9 bins in training dataset,\n",
        "## and remain one to be the testing dataset\n",
        "for train_index,test_index in Skf.split(data_X,data_Y):\n",
        "    print('{} of KFold {}'.format(i,Skf.n_splits))\n",
        "    x_tr,x_v = data_X[train_index],data_X[test_index]\n",
        "    y_tr,y_v = data_Y[train_index],data_Y[test_index]\n",
        "\n",
        "    from sklearn.cluster import KMeans\n",
        "    kmeans = KMeans(n_clusters=2, random_state=49).fit(x_tr)\n",
        "    kmLabels = kmeans.labels_\n",
        "    ## save the centroid and the number of samples in each cluster in each 9 bins\n",
        "    Label = [np.count_nonzero(kmLabels==0),np.count_nonzero(kmLabels==1)]\n",
        "    Label_all += [Label]\n",
        "    centroids = kmeans.cluster_centers_\n",
        "    centroids_all += [centroids]\n",
        "\n",
        "    ## plot the distribution of samples and the centroids\n",
        "    plt.figure(figsize=(8,5))\n",
        "    plt.title(\"Porto Data Points \" \"(%d of KFold 10)\" %i, fontsize=18)\n",
        "    plt.grid(True)\n",
        "    plt.scatter(x_tr[kmeans.labels_ == 0, 2], x_tr[kmeans.labels_ == 0, 8],\n",
        "                c='orange', label='cluster 0')\n",
        "    plt.scatter(x_tr[kmeans.labels_ == 1, 2], x_tr[kmeans.labels_ == 1, 8],\n",
        "                c='blue', label='cluster 1')\n",
        "    plt.scatter(centroids[0, 2], centroids[0, 8], marker='*', s=300, c='g', label='centroid 0')\n",
        "    plt.scatter(centroids[1, 2], centroids[1, 8], marker='*', s=300, c='r', label='centroid 1')\n",
        "    plt.legend()\n",
        "    plt.savefig('data_Kmean_' + str(i) + 'of K fold 10.png', dpi=300)\n",
        "    plt.show()\n",
        "\n",
        "    ## train and test the dataset in random forest model\n",
        "    modelRFnew = RandomForestClassifier(random_state=42)\n",
        "    modelRFnew.fit(x_tr,kmLabels)\n",
        "\n",
        "    PrecisionRFnew=precision_score(y_v,modelRFnew.predict(x_v))\n",
        "    RecallRFnew=recall_score(y_v,modelRFnew.predict(x_v))\n",
        "    F1scoreRFnew=f1_score(y_v,modelRFnew.predict(x_v))\n",
        "    ScoreROCAUCRFnew = roc_auc_score(y_v,modelRFnew.predict(x_v))\n",
        "\n",
        "    cv_PrecisionRFnew.append(PrecisionRFnew)\n",
        "    cv_RecallRFnew.append(RecallRFnew)\n",
        "    cv_F1scoreRFnew.append(F1scoreRFnew)\n",
        "    cv_ScoreROCAUCRFnew.append(ScoreROCAUCRFnew)\n",
        "\n",
        "    print('Confusion matrix\\n',confusion_matrix(y_v,modelRFnew.predict(x_v)))\n",
        "    print('Precision:', precision_score(y_v,modelRFnew.predict(x_v)))\n",
        "    print('Recall:',recall_score(y_v,modelRFnew.predict(x_v)))\n",
        "    print('F1 score:', f1_score(y_v,modelRFnew.predict(x_v)))\n",
        "    print('ROC AUC score:',ScoreROCAUCRFnew)\n",
        "    \n",
        "    from sklearn.metrics import confusion_matrix    \n",
        "    ConfusionMatrix = confusion_matrix(y_v, modelRFnew.predict(x_v))\n",
        "    ConfusionMatrix_all += [ConfusionMatrix]\n",
        "    i+=1"
      ],
      "execution_count": 23,
      "outputs": [
        {
          "output_type": "stream",
          "text": [
            "1 of KFold 10\n"
          ],
          "name": "stdout"
        },
        {
          "output_type": "display_data",
          "data": {
            "image/png": "[encoded data removed]",
            "text/plain": [
              "<Figure size 576x360 with 1 Axes>"
            ]
          },
          "metadata": {
            "tags": [],
            "needs_background": "light"
          }
        },
        {
          "output_type": "stream",
          "text": [
            "Confusion matrix\n",
            " [[1924 1211]\n",
            " [  93   28]]\n",
            "Precision: 0.022598870056497175\n",
            "Recall: 0.23140495867768596\n",
            "F1 score: 0.041176470588235294\n",
            "ROC AUC score: 0.4225605335653183\n",
            "2 of KFold 10\n"
          ],
          "name": "stdout"
        },
        {
          "output_type": "display_data",
          "data": {
            "image/png": "[encoded data removed]",
            "text/plain": [
              "<Figure size 576x360 with 1 Axes>"
            ]
          },
          "metadata": {
            "tags": [],
            "needs_background": "light"
          }
        },
        {
          "output_type": "stream",
          "text": [
            "Confusion matrix\n",
            " [[1884 1251]\n",
            " [  96   25]]\n",
            "Precision: 0.019592476489028215\n",
            "Recall: 0.2066115702479339\n",
            "F1 score: 0.03579098067287044\n",
            "ROC AUC score: 0.40378425402348855\n",
            "3 of KFold 10\n"
          ],
          "name": "stdout"
        },
        {
          "output_type": "display_data",
          "data": {
            "image/png": "[encoded data removed]",
            "text/plain": [
              "<Figure size 576x360 with 1 Axes>"
            ]
          },
          "metadata": {
            "tags": [],
            "needs_background": "light"
          }
        },
        {
          "output_type": "stream",
          "text": [
            "Confusion matrix\n",
            " [[1254 1881]\n",
            " [  39   82]]\n",
            "Precision: 0.041772796739684155\n",
            "Recall: 0.6776859504132231\n",
            "F1 score: 0.07869481765834932\n",
            "ROC AUC score: 0.5388429752066116\n",
            "4 of KFold 10\n"
          ],
          "name": "stdout"
        },
        {
          "output_type": "display_data",
          "data": {
            "image/png": "[encoded data removed]",
            "text/plain": [
              "<Figure size 576x360 with 1 Axes>"
            ]
          },
          "metadata": {
            "tags": [],
            "needs_background": "light"
          }
        },
        {
          "output_type": "stream",
          "text": [
            "Confusion matrix\n",
            " [[1254 1881]\n",
            " [  34   87]]\n",
            "Precision: 0.04420731707317073\n",
            "Recall: 0.71900826446281\n",
            "F1 score: 0.0832934418382001\n",
            "ROC AUC score: 0.559504132231405\n",
            "5 of KFold 10\n"
          ],
          "name": "stdout"
        },
        {
          "output_type": "display_data",
          "data": {
            "image/png": "[encoded data removed]",
            "text/plain": [
              "<Figure size 576x360 with 1 Axes>"
            ]
          },
          "metadata": {
            "tags": [],
            "needs_background": "light"
          }
        },
        {
          "output_type": "stream",
          "text": [
            "Confusion matrix\n",
            " [[1228 1907]\n",
            " [  47   74]]\n",
            "Precision: 0.03735487127713276\n",
            "Recall: 0.6115702479338843\n",
            "F1 score: 0.07040913415794481\n",
            "ROC AUC score: 0.5016383935044222\n",
            "6 of KFold 10\n"
          ],
          "name": "stdout"
        },
        {
          "output_type": "display_data",
          "data": {
            "image/png": "[encoded data removed]",
            "text/plain": [
              "<Figure size 576x360 with 1 Axes>"
            ]
          },
          "metadata": {
            "tags": [],
            "needs_background": "light"
          }
        },
        {
          "output_type": "stream",
          "text": [
            "Confusion matrix\n",
            " [[1286 1849]\n",
            " [  32   89]]\n",
            "Precision: 0.04592363261093911\n",
            "Recall: 0.7355371900826446\n",
            "F1 score: 0.08644973288003885\n",
            "ROC AUC score: 0.5728722633028853\n",
            "7 of KFold 10\n"
          ],
          "name": "stdout"
        },
        {
          "output_type": "display_data",
          "data": {
            "image/png": "[encoded data removed]",
            "text/plain": [
              "<Figure size 576x360 with 1 Axes>"
            ]
          },
          "metadata": {
            "tags": [],
            "needs_background": "light"
          }
        },
        {
          "output_type": "stream",
          "text": [
            "Confusion matrix\n",
            " [[1234 1901]\n",
            " [  41   80]]\n",
            "Precision: 0.04038364462392731\n",
            "Recall: 0.6611570247933884\n",
            "F1 score: 0.07611798287345385\n",
            "ROC AUC score: 0.5273887197332173\n",
            "8 of KFold 10\n"
          ],
          "name": "stdout"
        },
        {
          "output_type": "display_data",
          "data": {
            "image/png": "[encoded data removed]",
            "text/plain": [
              "<Figure size 576x360 with 1 Axes>"
            ]
          },
          "metadata": {
            "tags": [],
            "needs_background": "light"
          }
        },
        {
          "output_type": "stream",
          "text": [
            "Confusion matrix\n",
            " [[1263 1872]\n",
            " [  35   86]]\n",
            "Precision: 0.043922369765066395\n",
            "Recall: 0.7107438016528925\n",
            "F1 score: 0.08273208273208274\n",
            "ROC AUC score: 0.5568073075250108\n",
            "9 of KFold 10\n"
          ],
          "name": "stdout"
        },
        {
          "output_type": "display_data",
          "data": {
            "image/png": "[encoded data removed]",
            "text/plain": [
              "<Figure size 576x360 with 1 Axes>"
            ]
          },
          "metadata": {
            "tags": [],
            "needs_background": "light"
          }
        },
        {
          "output_type": "stream",
          "text": [
            "Confusion matrix\n",
            " [[1901 1233]\n",
            " [  87   34]]\n",
            "Precision: 0.026835043409629045\n",
            "Recall: 0.2809917355371901\n",
            "F1 score: 0.04899135446685879\n",
            "ROC AUC score: 0.4437824025484291\n",
            "10 of KFold 10\n"
          ],
          "name": "stdout"
        },
        {
          "output_type": "display_data",
          "data": {
            "image/png": "[encoded data removed]",
            "text/plain": [
              "<Figure size 576x360 with 1 Axes>"
            ]
          },
          "metadata": {
            "tags": [],
            "needs_background": "light"
          }
        },
        {
          "output_type": "stream",
          "text": [
            "Confusion matrix\n",
            " [[1243 1891]\n",
            " [  36   85]]\n",
            "Precision: 0.0430161943319838\n",
            "Recall: 0.7024793388429752\n",
            "F1 score: 0.08106819265617549\n",
            "ROC AUC score: 0.5495485398745827\n"
          ],
          "name": "stdout"
        }
      ]
    },
    {
      "cell_type": "code",
      "metadata": {
        "id": "Lu5qJ3_22olt",
        "colab_type": "code",
        "outputId": "2b8fd7bd-7a0c-409c-dc9e-1dc1ced6ddc3",
        "colab": {
          "base_uri": "https://localhost:8080/",
          "height": 151
        }
      },
      "source": [
        "from statistics import mean, stdev\n",
        "print(\"Mean of Precision:\", round(mean(cv_PrecisionRFnew),7), '\\nStandard Deviation of Precision:', round(stdev(cv_PrecisionRFnew),7))\n",
        "print(\"Mean of Recall:\", round(mean(cv_RecallRFnew),7), '\\nStandard Deviation of Recall:', round(stdev(cv_RecallRFnew),7))\n",
        "print(\"Mean of F1score:\", round(mean(cv_F1scoreRFnew),7), '\\nStandard Deviation of F1score:', round(stdev(cv_F1scoreRFnew),7))\n",
        "print(\"Mean of ROC AUC Score:\", round(mean(cv_ScoreROCAUCRFnew),7), '\\nStandard Deviation of ROC AUC score:', round(stdev(cv_ScoreROCAUCRFnew),7))"
      ],
      "execution_count": 28,
      "outputs": [
        {
          "output_type": "stream",
          "text": [
            "Mean of Precision: 0.0365607 \n",
            "Standard Deviation of Precision: 0.0097858\n",
            "Mean of Recall: 0.553719 \n",
            "Standard Deviation of Recall: 0.2201445\n",
            "Mean of F1score: 0.0684724 \n",
            "Standard Deviation of F1score: 0.0190444\n",
            "Mean of ROC AUC Score: 0.507673 \n",
            "Standard Deviation of ROC AUC score: 0.0620223\n"
          ],
          "name": "stdout"
        }
      ]
    },
    {
      "cell_type": "markdown",
      "metadata": {
        "id": "aWzNvNw2KTfw",
        "colab_type": "text"
      },
      "source": [
        "# Results Comparison using Box Plots"
      ]
    },
    {
      "cell_type": "code",
      "metadata": {
        "id": "yXU_EeVMG48R",
        "colab_type": "code",
        "outputId": "a09a7c7c-a4e3-40d2-d0a1-8b725b080c3a",
        "colab": {
          "base_uri": "https://localhost:8080/",
          "height": 542
        }
      },
      "source": [
        "import plotly.graph_objects as plot\n",
        "\n",
        "x = ['Precision', 'Precision', 'Precision', 'Precision', 'Precision', 'Precision', 'Precision', 'Precision', 'Precision', 'Precision', 'Precision', 'Precision',\n",
        "     'Recall', 'Recall', 'Recall', 'Recall', 'Recall', 'Recall', 'Recall', 'Recall', 'Recall', 'Recall', 'Recall', 'Recall',\n",
        "     'F1 Score', 'F1 Score', 'F1 Score', 'F1 Score', 'F1 Score', 'F1 Score', 'F1 Score', 'F1 Score', 'F1 Score', 'F1 Score', 'F1 Score', 'F1 Score',\n",
        "     'ROC-AUC Score', 'ROC-AUC Score', 'ROC-AUC Score', 'ROC-AUC Score', 'ROC-AUC Score', 'ROC-AUC Score', 'ROC-AUC Score', 'ROC-AUC Score', 'ROC-AUC Score', 'ROC-AUC Score', 'ROC-AUC Score', 'ROC-AUC Score']\n",
        "\n",
        "fig = plot.Figure()\n",
        "\n",
        "fig.add_trace(plot.Box(\n",
        "    y=cv_PrecisionDT+cv_RecallDT+cv_F1scoreDT+cv_ScoreDTROCAUC,\n",
        "    x=x,\n",
        "    name='Decision Tree',\n",
        "    marker_color='red'\n",
        "))\n",
        "fig.add_trace(plot.Box(\n",
        "    y=cv_PrecisionRF+cv_RecallRF+cv_F1scoreRF+cv_ScoreROCAUCRF,\n",
        "    x=x,\n",
        "    name='Random Forest',\n",
        "    marker_color='green'\n",
        "))\n",
        "fig.add_trace(plot.Box(\n",
        "    y=cv_PrecisionRFnew+cv_RecallRFnew+cv_F1scoreRFnew+cv_ScoreROCAUCRFnew,\n",
        "    x=x,\n",
        "    name='New Amalgamation Method',\n",
        "    marker_color='blue'\n",
        "))\n",
        "\n",
        "\n",
        "fig.update_layout(\n",
        "    yaxis_title='Score',\n",
        "    boxmode='group' # group together boxes of the different traces for each value of x\n",
        ")\n",
        "fig.show()"
      ],
      "execution_count": 36,
      "outputs": [
        {
          "output_type": "display_data",
          "data": {
            "text/html": [
              "<html>\n",
              "<head><meta charset=\"utf-8\" /></head>\n",
              "<body>\n",
              "    <div>\n",
              "            <script src=\"https://cdnjs.cloudflare.com/ajax/libs/mathjax/2.7.5/MathJax.js?config=TeX-AMS-MML_SVG\"></script><script type=\"text/javascript\">if (window.MathJax) {MathJax.Hub.Config({SVG: {font: \"STIX-Web\"}});}</script>\n",
              "                <script type=\"text/javascript\">window.PlotlyConfig = {MathJaxConfig: 'local'};</script>\n",
              "        <script src=\"https://cdn.plot.ly/plotly-latest.min.js\"></script>    \n",
              "            <div id=\"0faab305-8f7d-4788-867c-111d07dc30eb\" class=\"plotly-graph-div\" style=\"height:525px; width:100%;\"></div>\n",
              "            <script type=\"text/javascript\">\n",
              "                \n",
              "                    window.PLOTLYENV=window.PLOTLYENV || {};\n",
              "                    \n",
              "                if (document.getElementById(\"0faab305-8f7d-4788-867c-111d07dc30eb\")) {\n",
              "                    Plotly.newPlot(\n",
              "                        '0faab305-8f7d-4788-867c-111d07dc30eb',\n",
              "                        [{\"marker\": {\"color\": \"red\"}, \"name\": \"Decision Tree\", \"type\": \"box\", \"x\": [\"Precision\", \"Precision\", \"Precision\", \"Precision\", \"Precision\", \"Precision\", \"Precision\", \"Precision\", \"Precision\", \"Precision\", \"Precision\", \"Precision\", \"Recall\", \"Recall\", \"Recall\", \"Recall\", \"Recall\", \"Recall\", \"Recall\", \"Recall\", \"Recall\", \"Recall\", \"Recall\", \"Recall\", \"F1 Score\", \"F1 Score\", \"F1 Score\", \"F1 Score\", \"F1 Score\", \"F1 Score\", \"F1 Score\", \"F1 Score\", \"F1 Score\", \"F1 Score\", \"F1 Score\", \"F1 Score\", \"ROC-AUC Score\", \"ROC-AUC Score\", \"ROC-AUC Score\", \"ROC-AUC Score\", \"ROC-AUC Score\", \"ROC-AUC Score\", \"ROC-AUC Score\", \"ROC-AUC Score\", \"ROC-AUC Score\", \"ROC-AUC Score\", \"ROC-AUC Score\", \"ROC-AUC Score\"], \"y\": [0.059602649006622516, 0.04411764705882353, 0.06756756756756757, 0.05202312138728324, 0.046357615894039736, 0.05, 0.039735099337748346, 0.04697986577181208, 0.05194805194805195, 0.030534351145038167, 0.0743801652892562, 0.049586776859504134, 0.08264462809917356, 0.0743801652892562, 0.05785123966942149, 0.05785123966942149, 0.049586776859504134, 0.05785123966942149, 0.06611570247933884, 0.03305785123966942, 0.0661764705882353, 0.04669260700389105, 0.07434944237918216, 0.06122448979591837, 0.051470588235294115, 0.05363984674329502, 0.04411764705882353, 0.05185185185185185, 0.05818181818181819, 0.03174603174603175, 0.5145425547339423, 0.5040597361171525, 0.5193127446715963, 0.5110337828041177, 0.5059591126576773, 0.5077134986225895, 0.5016673916195448, 0.506278091924025, 0.5097649348389036, 0.49626727916163427]}, {\"marker\": {\"color\": \"green\"}, \"name\": \"Random Forest\", \"type\": \"box\", \"x\": [\"Precision\", \"Precision\", \"Precision\", \"Precision\", \"Precision\", \"Precision\", \"Precision\", \"Precision\", \"Precision\", \"Precision\", \"Precision\", \"Precision\", \"Recall\", \"Recall\", \"Recall\", \"Recall\", \"Recall\", \"Recall\", \"Recall\", \"Recall\", \"Recall\", \"Recall\", \"Recall\", \"Recall\", \"F1 Score\", \"F1 Score\", \"F1 Score\", \"F1 Score\", \"F1 Score\", \"F1 Score\", \"F1 Score\", \"F1 Score\", \"F1 Score\", \"F1 Score\", \"F1 Score\", \"F1 Score\", \"ROC-AUC Score\", \"ROC-AUC Score\", \"ROC-AUC Score\", \"ROC-AUC Score\", \"ROC-AUC Score\", \"ROC-AUC Score\", \"ROC-AUC Score\", \"ROC-AUC Score\", \"ROC-AUC Score\", \"ROC-AUC Score\", \"ROC-AUC Score\", \"ROC-AUC Score\"], \"y\": [0.0, 0.0, 0.0, 0.0, 0.0, 0.0, 0.0, 0.0, 0.0, 0.0, 0.0, 0.0, 0.0, 0.0, 0.0, 0.0, 0.0, 0.0, 0.0, 0.0, 0.0, 0.0, 0.0, 0.0, 0.0, 0.0, 0.0, 0.0, 0.0, 0.0, 0.5, 0.5, 0.5, 0.5, 0.5, 0.5, 0.5, 0.5, 0.5, 0.5]}, {\"marker\": {\"color\": \"blue\"}, \"name\": \"New Amalgamation Method\", \"type\": \"box\", \"x\": [\"Precision\", \"Precision\", \"Precision\", \"Precision\", \"Precision\", \"Precision\", \"Precision\", \"Precision\", \"Precision\", \"Precision\", \"Precision\", \"Precision\", \"Recall\", \"Recall\", \"Recall\", \"Recall\", \"Recall\", \"Recall\", \"Recall\", \"Recall\", \"Recall\", \"Recall\", \"Recall\", \"Recall\", \"F1 Score\", \"F1 Score\", \"F1 Score\", \"F1 Score\", \"F1 Score\", \"F1 Score\", \"F1 Score\", \"F1 Score\", \"F1 Score\", \"F1 Score\", \"F1 Score\", \"F1 Score\", \"ROC-AUC Score\", \"ROC-AUC Score\", \"ROC-AUC Score\", \"ROC-AUC Score\", \"ROC-AUC Score\", \"ROC-AUC Score\", \"ROC-AUC Score\", \"ROC-AUC Score\", \"ROC-AUC Score\", \"ROC-AUC Score\", \"ROC-AUC Score\", \"ROC-AUC Score\"], \"y\": [0.022598870056497175, 0.019592476489028215, 0.041772796739684155, 0.04420731707317073, 0.03735487127713276, 0.04592363261093911, 0.04038364462392731, 0.043922369765066395, 0.026835043409629045, 0.0430161943319838, 0.23140495867768596, 0.2066115702479339, 0.6776859504132231, 0.71900826446281, 0.6115702479338843, 0.7355371900826446, 0.6611570247933884, 0.7107438016528925, 0.2809917355371901, 0.7024793388429752, 0.041176470588235294, 0.03579098067287044, 0.07869481765834932, 0.0832934418382001, 0.07040913415794481, 0.08644973288003885, 0.07611798287345385, 0.08273208273208274, 0.04899135446685879, 0.08106819265617549, 0.4225605335653183, 0.40378425402348855, 0.5388429752066116, 0.559504132231405, 0.5016383935044222, 0.5728722633028853, 0.5273887197332173, 0.5568073075250108, 0.4437824025484291, 0.5495485398745827]}],\n",
              "                        {\"boxmode\": \"group\", \"template\": {\"data\": {\"bar\": [{\"error_x\": {\"color\": \"#2a3f5f\"}, \"error_y\": {\"color\": \"#2a3f5f\"}, \"marker\": {\"line\": {\"color\": \"#E5ECF6\", \"width\": 0.5}}, \"type\": \"bar\"}], \"barpolar\": [{\"marker\": {\"line\": {\"color\": \"#E5ECF6\", \"width\": 0.5}}, \"type\": \"barpolar\"}], \"carpet\": [{\"aaxis\": {\"endlinecolor\": \"#2a3f5f\", \"gridcolor\": \"white\", \"linecolor\": \"white\", \"minorgridcolor\": \"white\", \"startlinecolor\": \"#2a3f5f\"}, \"baxis\": {\"endlinecolor\": \"#2a3f5f\", \"gridcolor\": \"white\", \"linecolor\": \"white\", \"minorgridcolor\": \"white\", \"startlinecolor\": \"#2a3f5f\"}, \"type\": \"carpet\"}], \"choropleth\": [{\"colorbar\": {\"outlinewidth\": 0, \"ticks\": \"\"}, \"type\": \"choropleth\"}], \"contour\": [{\"colorbar\": {\"outlinewidth\": 0, \"ticks\": \"\"}, \"colorscale\": [[0.0, \"#0d0887\"], [0.1111111111111111, \"#46039f\"], [0.2222222222222222, \"#7201a8\"], [0.3333333333333333, \"#9c179e\"], [0.4444444444444444, \"#bd3786\"], [0.5555555555555556, \"#d8576b\"], [0.6666666666666666, \"#ed7953\"], [0.7777777777777778, \"#fb9f3a\"], [0.8888888888888888, \"#fdca26\"], [1.0, \"#f0f921\"]], \"type\": \"contour\"}], \"contourcarpet\": [{\"colorbar\": {\"outlinewidth\": 0, \"ticks\": \"\"}, \"type\": \"contourcarpet\"}], \"heatmap\": [{\"colorbar\": {\"outlinewidth\": 0, \"ticks\": \"\"}, \"colorscale\": [[0.0, \"#0d0887\"], [0.1111111111111111, \"#46039f\"], [0.2222222222222222, \"#7201a8\"], [0.3333333333333333, \"#9c179e\"], [0.4444444444444444, \"#bd3786\"], [0.5555555555555556, \"#d8576b\"], [0.6666666666666666, \"#ed7953\"], [0.7777777777777778, \"#fb9f3a\"], [0.8888888888888888, \"#fdca26\"], [1.0, \"#f0f921\"]], \"type\": \"heatmap\"}], \"heatmapgl\": [{\"colorbar\": {\"outlinewidth\": 0, \"ticks\": \"\"}, \"colorscale\": [[0.0, \"#0d0887\"], [0.1111111111111111, \"#46039f\"], [0.2222222222222222, \"#7201a8\"], [0.3333333333333333, \"#9c179e\"], [0.4444444444444444, \"#bd3786\"], [0.5555555555555556, \"#d8576b\"], [0.6666666666666666, \"#ed7953\"], [0.7777777777777778, \"#fb9f3a\"], [0.8888888888888888, \"#fdca26\"], [1.0, \"#f0f921\"]], \"type\": \"heatmapgl\"}], \"histogram\": [{\"marker\": {\"colorbar\": {\"outlinewidth\": 0, \"ticks\": \"\"}}, \"type\": \"histogram\"}], \"histogram2d\": [{\"colorbar\": {\"outlinewidth\": 0, \"ticks\": \"\"}, \"colorscale\": [[0.0, \"#0d0887\"], [0.1111111111111111, \"#46039f\"], [0.2222222222222222, \"#7201a8\"], [0.3333333333333333, \"#9c179e\"], [0.4444444444444444, \"#bd3786\"], [0.5555555555555556, \"#d8576b\"], [0.6666666666666666, \"#ed7953\"], [0.7777777777777778, \"#fb9f3a\"], [0.8888888888888888, \"#fdca26\"], [1.0, \"#f0f921\"]], \"type\": \"histogram2d\"}], \"histogram2dcontour\": [{\"colorbar\": {\"outlinewidth\": 0, \"ticks\": \"\"}, \"colorscale\": [[0.0, \"#0d0887\"], [0.1111111111111111, \"#46039f\"], [0.2222222222222222, \"#7201a8\"], [0.3333333333333333, \"#9c179e\"], [0.4444444444444444, \"#bd3786\"], [0.5555555555555556, \"#d8576b\"], [0.6666666666666666, \"#ed7953\"], [0.7777777777777778, \"#fb9f3a\"], [0.8888888888888888, \"#fdca26\"], [1.0, \"#f0f921\"]], \"type\": \"histogram2dcontour\"}], \"mesh3d\": [{\"colorbar\": {\"outlinewidth\": 0, \"ticks\": \"\"}, \"type\": \"mesh3d\"}], \"parcoords\": [{\"line\": {\"colorbar\": {\"outlinewidth\": 0, \"ticks\": \"\"}}, \"type\": \"parcoords\"}], \"pie\": [{\"automargin\": true, \"type\": \"pie\"}], \"scatter\": [{\"marker\": {\"colorbar\": {\"outlinewidth\": 0, \"ticks\": \"\"}}, \"type\": \"scatter\"}], \"scatter3d\": [{\"line\": {\"colorbar\": {\"outlinewidth\": 0, \"ticks\": \"\"}}, \"marker\": {\"colorbar\": {\"outlinewidth\": 0, \"ticks\": \"\"}}, \"type\": \"scatter3d\"}], \"scattercarpet\": [{\"marker\": {\"colorbar\": {\"outlinewidth\": 0, \"ticks\": \"\"}}, \"type\": \"scattercarpet\"}], \"scattergeo\": [{\"marker\": {\"colorbar\": {\"outlinewidth\": 0, \"ticks\": \"\"}}, \"type\": \"scattergeo\"}], \"scattergl\": [{\"marker\": {\"colorbar\": {\"outlinewidth\": 0, \"ticks\": \"\"}}, \"type\": \"scattergl\"}], \"scattermapbox\": [{\"marker\": {\"colorbar\": {\"outlinewidth\": 0, \"ticks\": \"\"}}, \"type\": \"scattermapbox\"}], \"scatterpolar\": [{\"marker\": {\"colorbar\": {\"outlinewidth\": 0, \"ticks\": \"\"}}, \"type\": \"scatterpolar\"}], \"scatterpolargl\": [{\"marker\": {\"colorbar\": {\"outlinewidth\": 0, \"ticks\": \"\"}}, \"type\": \"scatterpolargl\"}], \"scatterternary\": [{\"marker\": {\"colorbar\": {\"outlinewidth\": 0, \"ticks\": \"\"}}, \"type\": \"scatterternary\"}], \"surface\": [{\"colorbar\": {\"outlinewidth\": 0, \"ticks\": \"\"}, \"colorscale\": [[0.0, \"#0d0887\"], [0.1111111111111111, \"#46039f\"], [0.2222222222222222, \"#7201a8\"], [0.3333333333333333, \"#9c179e\"], [0.4444444444444444, \"#bd3786\"], [0.5555555555555556, \"#d8576b\"], [0.6666666666666666, \"#ed7953\"], [0.7777777777777778, \"#fb9f3a\"], [0.8888888888888888, \"#fdca26\"], [1.0, \"#f0f921\"]], \"type\": \"surface\"}], \"table\": [{\"cells\": {\"fill\": {\"color\": \"#EBF0F8\"}, \"line\": {\"color\": \"white\"}}, \"header\": {\"fill\": {\"color\": \"#C8D4E3\"}, \"line\": {\"color\": \"white\"}}, \"type\": \"table\"}]}, \"layout\": {\"annotationdefaults\": {\"arrowcolor\": \"#2a3f5f\", \"arrowhead\": 0, \"arrowwidth\": 1}, \"coloraxis\": {\"colorbar\": {\"outlinewidth\": 0, \"ticks\": \"\"}}, \"colorscale\": {\"diverging\": [[0, \"#8e0152\"], [0.1, \"#c51b7d\"], [0.2, \"#de77ae\"], [0.3, \"#f1b6da\"], [0.4, \"#fde0ef\"], [0.5, \"#f7f7f7\"], [0.6, \"#e6f5d0\"], [0.7, \"#b8e186\"], [0.8, \"#7fbc41\"], [0.9, \"#4d9221\"], [1, \"#276419\"]], \"sequential\": [[0.0, \"#0d0887\"], [0.1111111111111111, \"#46039f\"], [0.2222222222222222, \"#7201a8\"], [0.3333333333333333, \"#9c179e\"], [0.4444444444444444, \"#bd3786\"], [0.5555555555555556, \"#d8576b\"], [0.6666666666666666, \"#ed7953\"], [0.7777777777777778, \"#fb9f3a\"], [0.8888888888888888, \"#fdca26\"], [1.0, \"#f0f921\"]], \"sequentialminus\": [[0.0, \"#0d0887\"], [0.1111111111111111, \"#46039f\"], [0.2222222222222222, \"#7201a8\"], [0.3333333333333333, \"#9c179e\"], [0.4444444444444444, \"#bd3786\"], [0.5555555555555556, \"#d8576b\"], [0.6666666666666666, \"#ed7953\"], [0.7777777777777778, \"#fb9f3a\"], [0.8888888888888888, \"#fdca26\"], [1.0, \"#f0f921\"]]}, \"colorway\": [\"#636efa\", \"#EF553B\", \"#00cc96\", \"#ab63fa\", \"#FFA15A\", \"#19d3f3\", \"#FF6692\", \"#B6E880\", \"#FF97FF\", \"#FECB52\"], \"font\": {\"color\": \"#2a3f5f\"}, \"geo\": {\"bgcolor\": \"white\", \"lakecolor\": \"white\", \"landcolor\": \"#E5ECF6\", \"showlakes\": true, \"showland\": true, \"subunitcolor\": \"white\"}, \"hoverlabel\": {\"align\": \"left\"}, \"hovermode\": \"closest\", \"mapbox\": {\"style\": \"light\"}, \"paper_bgcolor\": \"white\", \"plot_bgcolor\": \"#E5ECF6\", \"polar\": {\"angularaxis\": {\"gridcolor\": \"white\", \"linecolor\": \"white\", \"ticks\": \"\"}, \"bgcolor\": \"#E5ECF6\", \"radialaxis\": {\"gridcolor\": \"white\", \"linecolor\": \"white\", \"ticks\": \"\"}}, \"scene\": {\"xaxis\": {\"backgroundcolor\": \"#E5ECF6\", \"gridcolor\": \"white\", \"gridwidth\": 2, \"linecolor\": \"white\", \"showbackground\": true, \"ticks\": \"\", \"zerolinecolor\": \"white\"}, \"yaxis\": {\"backgroundcolor\": \"#E5ECF6\", \"gridcolor\": \"white\", \"gridwidth\": 2, \"linecolor\": \"white\", \"showbackground\": true, \"ticks\": \"\", \"zerolinecolor\": \"white\"}, \"zaxis\": {\"backgroundcolor\": \"#E5ECF6\", \"gridcolor\": \"white\", \"gridwidth\": 2, \"linecolor\": \"white\", \"showbackground\": true, \"ticks\": \"\", \"zerolinecolor\": \"white\"}}, \"shapedefaults\": {\"line\": {\"color\": \"#2a3f5f\"}}, \"ternary\": {\"aaxis\": {\"gridcolor\": \"white\", \"linecolor\": \"white\", \"ticks\": \"\"}, \"baxis\": {\"gridcolor\": \"white\", \"linecolor\": \"white\", \"ticks\": \"\"}, \"bgcolor\": \"#E5ECF6\", \"caxis\": {\"gridcolor\": \"white\", \"linecolor\": \"white\", \"ticks\": \"\"}}, \"title\": {\"x\": 0.05}, \"xaxis\": {\"automargin\": true, \"gridcolor\": \"white\", \"linecolor\": \"white\", \"ticks\": \"\", \"title\": {\"standoff\": 15}, \"zerolinecolor\": \"white\", \"zerolinewidth\": 2}, \"yaxis\": {\"automargin\": true, \"gridcolor\": \"white\", \"linecolor\": \"white\", \"ticks\": \"\", \"title\": {\"standoff\": 15}, \"zerolinecolor\": \"white\", \"zerolinewidth\": 2}}}, \"yaxis\": {\"title\": {\"text\": \"Score\"}}},\n",
              "                        {\"responsive\": true}\n",
              "                    ).then(function(){\n",
              "                            \n",
              "var gd = document.getElementById('0faab305-8f7d-4788-867c-111d07dc30eb');\n",
              "var x = new MutationObserver(function (mutations, observer) {{\n",
              "        var display = window.getComputedStyle(gd).display;\n",
              "        if (!display || display === 'none') {{\n",
              "            console.log([gd, 'removed!']);\n",
              "            Plotly.purge(gd);\n",
              "            observer.disconnect();\n",
              "        }}\n",
              "}});\n",
              "\n",
              "// Listen for the removal of the full notebook cells\n",
              "var notebookContainer = gd.closest('#notebook-container');\n",
              "if (notebookContainer) {{\n",
              "    x.observe(notebookContainer, {childList: true});\n",
              "}}\n",
              "\n",
              "// Listen for the clearing of the current output cell\n",
              "var outputEl = gd.closest('.output');\n",
              "if (outputEl) {{\n",
              "    x.observe(outputEl, {childList: true});\n",
              "}}\n",
              "\n",
              "                        })\n",
              "                };\n",
              "                \n",
              "            </script>\n",
              "        </div>\n",
              "</body>\n",
              "</html>"
            ]
          },
          "metadata": {
            "tags": []
          }
        }
      ]
    },
    {
      "cell_type": "code",
      "metadata": {
        "id": "uPyixK6pc8ho",
        "colab_type": "code",
        "colab": {}
      },
      "source": [
        ""
      ],
      "execution_count": 0,
      "outputs": []
    }
  ]
}